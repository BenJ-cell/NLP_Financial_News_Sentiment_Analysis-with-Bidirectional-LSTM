{
  "cells": [
    {
      "cell_type": "markdown",
      "metadata": {
        "papermill": {
          "duration": 0.045713,
          "end_time": "2020-10-12T12:26:42.008428",
          "exception": false,
          "start_time": "2020-10-12T12:26:41.962715",
          "status": "completed"
        },
        "tags": [],
        "id": "GsJ1sS5PDLNY"
      },
      "source": [
        "# NLP\n",
        "\n",
        "Natural language processing (NLP) is a subfield of linguistics, computer science, and artificial intelligence concerned with the interactions between computers and human language, in particular how to program computers to process and analyze large amounts of natural language data.\n",
        "\n",
        "NLP is currently the focus of significant interest in the machine learning community. Some of the use cases for NLP are listed here:\n",
        "* Chatbots\n",
        "* Search(text and Audio)\n",
        "* Text Classification\n",
        "* Sentiment Analysis\n",
        "* Recomendation System\n",
        "* Quesstion Answering\n",
        "* Speech recognation\n",
        "* NLU (Natural Language Understanding)\n",
        "* NLG ( Natural Language Generation)\n",
        "\n",
        "You encounter many of these use cases in everyday life : when you visit web pages or perform an online search for books, or recommendation regarding movies.\n",
        "\n",
        "\n"
      ]
    },
    {
      "cell_type": "markdown",
      "metadata": {
        "papermill": {
          "duration": 0.050048,
          "end_time": "2020-10-12T12:26:42.105824",
          "exception": false,
          "start_time": "2020-10-12T12:26:42.055776",
          "status": "completed"
        },
        "tags": [],
        "id": "eeffk4SeDLNb"
      },
      "source": [
        "# NLP Techniques\n",
        "\n",
        "The earliest approach for solving NLP task involves rule-based approachers, which dominated the indusytry for decades. Examples of techniques using rule based approaches include Regular Expressions (RegExs) and Context Free Grammars (CFGs). RegExs are sometimes used in order to remove HTML tags from text that has been scraped from a web page or uwanted special characters from a document.\n",
        "\n",
        "\n",
        "The second approach involved training a machine learning model with some data that is based on some user defined features. This technique requires a considerable amount of features engineering ( a nontrivial task), and includes analyzing the text to remove undersired and superfluous content(including stop words), as well as transforming the word (e.g., converting upercase to lowercase).\n",
        "\n",
        "\n",
        "The most recent approach involves deep learning, whereby a neural network learns the features instead of relying on human to perform feature engineering. One of the key ideas involves mapping words to numbers, which enables us to map sentence to vector of number. After transforming documents to vector, we can perform a myriad of operations on those vector.  For example we use the notion of vector space to define vector space model, where the distance between two vector can be measured  by the angle between them (related to cosine similarity). If two vector are closed to each other, then it's likelier that the coresponding sentence are similar meaning. Their similarity is based on the distributional hypothesis, which asserts that words in the same contexts tent to have similar meaning.The NLP models that use deep learning can comprise CNNs, RNNs, LSTMs, and bidirectional LSTMs.\n"
      ]
    },
    {
      "cell_type": "markdown",
      "metadata": {
        "papermill": {
          "duration": 0.045671,
          "end_time": "2020-10-12T12:26:42.197598",
          "exception": false,
          "start_time": "2020-10-12T12:26:42.151927",
          "status": "completed"
        },
        "tags": [],
        "id": "gKmSLhUwDLNd"
      },
      "source": [
        "# Example Cases : Sentiment Analysis\n",
        "\n",
        "# This work tries to classifying sentiment from financial news using Combination Doc2vec and LSTM"
      ]
    },
    {
      "cell_type": "markdown",
      "metadata": {
        "papermill": {
          "duration": 0.045684,
          "end_time": "2020-10-12T12:26:42.290057",
          "exception": false,
          "start_time": "2020-10-12T12:26:42.244373",
          "status": "completed"
        },
        "tags": [],
        "id": "OX3QDoaODLNe"
      },
      "source": [
        "# What is Sentimen Analysis ?\n",
        "\n",
        "Sentiment analysis refers to the use of natural language processing, text analysis, computational linguistics, and biometrics to systematically identify, extract, quantify, and study affective states and subjective information. Sentiment Analysis [2]: the process of understanding if a given text is talking positively or negatively about a given subject, aiming for brand monitoring.\n",
        "\n",
        "\n",
        "# Different Levels of Analysis \n",
        "\n",
        "According to [4] sentiment analysis has been investigated mainly at three levels:  \n",
        "\n",
        "*** Document level:**\n",
        "\n",
        "The task at this level is to classify whether a whole opinion document expresses a positive or negative sentiment (Pang, Lee and Vaithyanathan, 2002; Turney, 2002). For example, given a product\n",
        "review, the system determines whether the review expresses an overall positive or negative opinion about the product. This task is commonly known as document-level sentiment classification. This level of analysis\n",
        "assumes that each document expresses opinions on a single entity (e.g., a single product). Thus, it is not applicable to documents which evaluate or compare multiple entities. \n",
        "\n",
        "\n",
        "\n",
        "** Sentence level: **\n",
        "\n",
        "\n",
        "The task at this level goes to the sentences and determines whether each sentence expressed a positive, negative, or neutral opinion. Neutral usually means no opinion. This level of analysis is closely related to subjectivity classification (Wiebe, Bruce and O'Hara, 1999), which distinguishes sentences (called objective sentences) that express factual information from sentences (called subjective sentences) that express\n",
        "subjective views and opinions. However, we should note that subjectivity is not equivalent to sentiment as many objective sentences can imply opinions, e.g., “We bought the car last month and the windshield wiper\n",
        "has fallen off.” Researchers have also analyzed clauses (Wilson, Wiebe and Hwa, 2004), but the clause level is still not enough, e.g., “Apple is doing very well in this lousy economy.” \n",
        "\n",
        "\n",
        "**Entity and Aspect level: **\n",
        "\n",
        "\n",
        "Both the document level and the sentence level analyses do not discover what exactly people liked and did not like. Aspect level performs finer-grained analysis. Aspect level was earlier called feature level (feature-based opinion mining and summarization) (Hu and Liu, 2004). Instead of looking at language constructs (documents, paragraphs, sentences, clauses or phrases), aspect level directly looks at the opinion itself. It is based on the idea that an opinion consists of a sentiment (positive or negative) and a target (of opinion). An opinion without its target being identified is of limited use. Realizing the importance of opinion targets also helps us understand the sentiment\n",
        "analysis problem better. \n",
        "\n"
      ]
    },
    {
      "cell_type": "markdown",
      "metadata": {
        "papermill": {
          "duration": 0.045744,
          "end_time": "2020-10-12T12:26:42.474127",
          "exception": false,
          "start_time": "2020-10-12T12:26:42.428383",
          "status": "completed"
        },
        "tags": [],
        "id": "KZQK0SDRDLNh"
      },
      "source": [
        "\n",
        "# What is LSTM ?\n",
        "\n",
        "Long Short Term Memory (LSTM) is a special kind of Recurrent Neural Network (RNN), capable of learning long-term dependencies. These long-term dependencies have a great influence on the meaning and overall polarity of a document. Long short-term memory networks (LSTM) address this long-term dependency problem by introducing a memory into the network. It was first introduced by **Hochreiter & Schmidhuber**.\n",
        "\n",
        "The LSTM architecture has a range of repeated modules for each time step as in a standard RNN. At each time step, the output of the module is controlled by a set of gates, as a function of the old hidden state ℎ𝑡−1 and the input at the current time step 𝑥𝑡 : the forget gate 𝑓𝑡, the input gate 𝑖𝑡 , and the output gate 𝑂𝑡 . These gates collectively decide how to update the current memory cell 𝐶𝑡 and the current hidden state ℎ𝑡 . The LSTM transition functions are defined as follows:\n",
        "\n",
        "𝑖𝑡=(𝑊𝑖[ℎ𝑡−1,𝑥𝑡]+𝑏𝑖) \n",
        "\n",
        "𝐶´𝑡=𝑡𝑎𝑛ℎ(𝑊𝑐[ℎ𝑡−1,𝑥𝑡]+𝑏𝐶) \n",
        "\n",
        "𝑓𝑡=(𝑊𝑓[ℎ𝑡−1,𝑥𝑡]+𝑏𝑓) \n",
        "\n",
        "𝑂𝑡=(𝑊𝑜[ℎ𝑡−1,𝑥𝑡]+𝑏𝑜) \n",
        "\n",
        "𝐶𝑡= 𝑓𝑡∗𝐶𝑡−1+𝑖𝑡∗𝐶´𝑡\n",
        "\n",
        "Here 𝜎 is logistic sigmoid function that has an output in 𝑛 [0,1] ,tanh denotes the hyperbolic tangent function that has an output ℎ 𝑖𝑛 [−1,1], and ∗ denotes the pointwise multiplication.\n",
        "\n",
        "\n",
        "As I mentioned before to deal with Deep learning we have to map sentence to vector of number. In this work inspired by [3] Doc2vec as the embedding used for extracting information context. The Doc2vec is an unsupervised algorithm that learns fixed-length feature representations from variable-length pieces of texts such as sentences, paragraphs, and documents.\n"
      ]
    },
    {
      "cell_type": "markdown",
      "metadata": {
        "papermill": {
          "duration": 0.04578,
          "end_time": "2020-10-12T12:26:42.566012",
          "exception": false,
          "start_time": "2020-10-12T12:26:42.520232",
          "status": "completed"
        },
        "tags": [],
        "id": "eUFslgj_DLNj"
      },
      "source": [
        "# Practical Example"
      ]
    },
    {
      "cell_type": "code",
      "execution_count": 1,
      "metadata": {
        "_cell_guid": "b1076dfc-b9ad-4769-8c92-a6c4dae69d19",
        "_uuid": "8f2839f25d086af736a60e9eeb907d3b93b6e0e5",
        "execution": {
          "iopub.execute_input": "2020-10-12T12:26:42.667444Z",
          "iopub.status.busy": "2020-10-12T12:26:42.666465Z",
          "iopub.status.idle": "2020-10-12T12:26:49.462818Z",
          "shell.execute_reply": "2020-10-12T12:26:49.461925Z"
        },
        "papermill": {
          "duration": 6.850687,
          "end_time": "2020-10-12T12:26:49.462948",
          "exception": false,
          "start_time": "2020-10-12T12:26:42.612261",
          "status": "completed"
        },
        "tags": [],
        "id": "p6A67njGDLNk"
      },
      "outputs": [],
      "source": [
        "import pandas as pd\n",
        "import numpy as np\n",
        "from tqdm import tqdm\n",
        "from keras.preprocessing.text import Tokenizer\n",
        "tqdm.pandas(desc=\"progress-bar\")\n",
        "from gensim.models import Doc2Vec\n",
        "from sklearn import utils\n",
        "from sklearn.model_selection import train_test_split\n",
        "from keras_preprocessing.sequence import pad_sequences\n",
        "import gensim\n",
        "from sklearn.linear_model import LogisticRegression\n",
        "from gensim.models.doc2vec import TaggedDocument\n",
        "import re\n",
        "import seaborn as sns\n",
        "import matplotlib.pyplot as plt\n",
        "from keras.models import Sequential\n",
        "from keras import regularizers\n",
        "from keras.regularizers import l2\n",
        "from keras.layers import LSTM, Dense, Embedding, Dropout, Conv1D, Bidirectional, MaxPooling1D\n",
        "import tensorflow as tf\n",
        "from bs4 import BeautifulSoup\n",
        "import nltk\n",
        "from nltk.corpus import stopwords\n",
        "import keras_tuner as kt\n",
        "from tensorflow.keras import regularizers\n",
        "from keras.utils import plot_model\n",
        "from sklearn.metrics import confusion_matrix"
      ]
    },
    {
      "cell_type": "markdown",
      "metadata": {
        "papermill": {
          "duration": 0.046251,
          "end_time": "2020-10-12T12:26:49.556802",
          "exception": false,
          "start_time": "2020-10-12T12:26:49.510551",
          "status": "completed"
        },
        "tags": [],
        "id": "twPvhsppDLNp"
      },
      "source": [
        "Read Dataset"
      ]
    },
    {
      "cell_type": "code",
      "execution_count": 2,
      "metadata": {
        "execution": {
          "iopub.execute_input": "2020-10-12T12:26:49.655670Z",
          "iopub.status.busy": "2020-10-12T12:26:49.654895Z",
          "iopub.status.idle": "2020-10-12T12:26:49.709755Z",
          "shell.execute_reply": "2020-10-12T12:26:49.709002Z"
        },
        "papermill": {
          "duration": 0.106491,
          "end_time": "2020-10-12T12:26:49.709876",
          "exception": false,
          "start_time": "2020-10-12T12:26:49.603385",
          "status": "completed"
        },
        "tags": [],
        "colab": {
          "base_uri": "https://localhost:8080/",
          "height": 206
        },
        "id": "W3ISXLRgDLNq",
        "outputId": "378eb6ac-cc89-47f8-e65e-d76c1f390ed7"
      },
      "outputs": [
        {
          "output_type": "execute_result",
          "data": {
            "text/plain": [
              "    neutral  \\\n",
              "0   neutral   \n",
              "1  negative   \n",
              "2  positive   \n",
              "3  positive   \n",
              "4  positive   \n",
              "\n",
              "  According to Gran , the company has no plans to move all production to Russia , although that is where the company is growing .  \n",
              "0  Technopolis plans to develop in stages an area...                                                                               \n",
              "1  The international electronic industry company ...                                                                               \n",
              "2  With the new production plant the company woul...                                                                               \n",
              "3  According to the company 's updated strategy f...                                                                               \n",
              "4  FINANCING OF ASPOCOMP 'S GROWTH Aspocomp is ag...                                                                               "
            ],
            "text/html": [
              "\n",
              "  <div id=\"df-4b7ffd6d-342c-4e6e-851e-04183b328545\">\n",
              "    <div class=\"colab-df-container\">\n",
              "      <div>\n",
              "<style scoped>\n",
              "    .dataframe tbody tr th:only-of-type {\n",
              "        vertical-align: middle;\n",
              "    }\n",
              "\n",
              "    .dataframe tbody tr th {\n",
              "        vertical-align: top;\n",
              "    }\n",
              "\n",
              "    .dataframe thead th {\n",
              "        text-align: right;\n",
              "    }\n",
              "</style>\n",
              "<table border=\"1\" class=\"dataframe\">\n",
              "  <thead>\n",
              "    <tr style=\"text-align: right;\">\n",
              "      <th></th>\n",
              "      <th>neutral</th>\n",
              "      <th>According to Gran , the company has no plans to move all production to Russia , although that is where the company is growing .</th>\n",
              "    </tr>\n",
              "  </thead>\n",
              "  <tbody>\n",
              "    <tr>\n",
              "      <th>0</th>\n",
              "      <td>neutral</td>\n",
              "      <td>Technopolis plans to develop in stages an area...</td>\n",
              "    </tr>\n",
              "    <tr>\n",
              "      <th>1</th>\n",
              "      <td>negative</td>\n",
              "      <td>The international electronic industry company ...</td>\n",
              "    </tr>\n",
              "    <tr>\n",
              "      <th>2</th>\n",
              "      <td>positive</td>\n",
              "      <td>With the new production plant the company woul...</td>\n",
              "    </tr>\n",
              "    <tr>\n",
              "      <th>3</th>\n",
              "      <td>positive</td>\n",
              "      <td>According to the company 's updated strategy f...</td>\n",
              "    </tr>\n",
              "    <tr>\n",
              "      <th>4</th>\n",
              "      <td>positive</td>\n",
              "      <td>FINANCING OF ASPOCOMP 'S GROWTH Aspocomp is ag...</td>\n",
              "    </tr>\n",
              "  </tbody>\n",
              "</table>\n",
              "</div>\n",
              "      <button class=\"colab-df-convert\" onclick=\"convertToInteractive('df-4b7ffd6d-342c-4e6e-851e-04183b328545')\"\n",
              "              title=\"Convert this dataframe to an interactive table.\"\n",
              "              style=\"display:none;\">\n",
              "        \n",
              "  <svg xmlns=\"http://www.w3.org/2000/svg\" height=\"24px\"viewBox=\"0 0 24 24\"\n",
              "       width=\"24px\">\n",
              "    <path d=\"M0 0h24v24H0V0z\" fill=\"none\"/>\n",
              "    <path d=\"M18.56 5.44l.94 2.06.94-2.06 2.06-.94-2.06-.94-.94-2.06-.94 2.06-2.06.94zm-11 1L8.5 8.5l.94-2.06 2.06-.94-2.06-.94L8.5 2.5l-.94 2.06-2.06.94zm10 10l.94 2.06.94-2.06 2.06-.94-2.06-.94-.94-2.06-.94 2.06-2.06.94z\"/><path d=\"M17.41 7.96l-1.37-1.37c-.4-.4-.92-.59-1.43-.59-.52 0-1.04.2-1.43.59L10.3 9.45l-7.72 7.72c-.78.78-.78 2.05 0 2.83L4 21.41c.39.39.9.59 1.41.59.51 0 1.02-.2 1.41-.59l7.78-7.78 2.81-2.81c.8-.78.8-2.07 0-2.86zM5.41 20L4 18.59l7.72-7.72 1.47 1.35L5.41 20z\"/>\n",
              "  </svg>\n",
              "      </button>\n",
              "      \n",
              "  <style>\n",
              "    .colab-df-container {\n",
              "      display:flex;\n",
              "      flex-wrap:wrap;\n",
              "      gap: 12px;\n",
              "    }\n",
              "\n",
              "    .colab-df-convert {\n",
              "      background-color: #E8F0FE;\n",
              "      border: none;\n",
              "      border-radius: 50%;\n",
              "      cursor: pointer;\n",
              "      display: none;\n",
              "      fill: #1967D2;\n",
              "      height: 32px;\n",
              "      padding: 0 0 0 0;\n",
              "      width: 32px;\n",
              "    }\n",
              "\n",
              "    .colab-df-convert:hover {\n",
              "      background-color: #E2EBFA;\n",
              "      box-shadow: 0px 1px 2px rgba(60, 64, 67, 0.3), 0px 1px 3px 1px rgba(60, 64, 67, 0.15);\n",
              "      fill: #174EA6;\n",
              "    }\n",
              "\n",
              "    [theme=dark] .colab-df-convert {\n",
              "      background-color: #3B4455;\n",
              "      fill: #D2E3FC;\n",
              "    }\n",
              "\n",
              "    [theme=dark] .colab-df-convert:hover {\n",
              "      background-color: #434B5C;\n",
              "      box-shadow: 0px 1px 3px 1px rgba(0, 0, 0, 0.15);\n",
              "      filter: drop-shadow(0px 1px 2px rgba(0, 0, 0, 0.3));\n",
              "      fill: #FFFFFF;\n",
              "    }\n",
              "  </style>\n",
              "\n",
              "      <script>\n",
              "        const buttonEl =\n",
              "          document.querySelector('#df-4b7ffd6d-342c-4e6e-851e-04183b328545 button.colab-df-convert');\n",
              "        buttonEl.style.display =\n",
              "          google.colab.kernel.accessAllowed ? 'block' : 'none';\n",
              "\n",
              "        async function convertToInteractive(key) {\n",
              "          const element = document.querySelector('#df-4b7ffd6d-342c-4e6e-851e-04183b328545');\n",
              "          const dataTable =\n",
              "            await google.colab.kernel.invokeFunction('convertToInteractive',\n",
              "                                                     [key], {});\n",
              "          if (!dataTable) return;\n",
              "\n",
              "          const docLinkHtml = 'Like what you see? Visit the ' +\n",
              "            '<a target=\"_blank\" href=https://colab.research.google.com/notebooks/data_table.ipynb>data table notebook</a>'\n",
              "            + ' to learn more about interactive tables.';\n",
              "          element.innerHTML = '';\n",
              "          dataTable['output_type'] = 'display_data';\n",
              "          await google.colab.output.renderOutput(dataTable, element);\n",
              "          const docLink = document.createElement('div');\n",
              "          docLink.innerHTML = docLinkHtml;\n",
              "          element.appendChild(docLink);\n",
              "        }\n",
              "      </script>\n",
              "    </div>\n",
              "  </div>\n",
              "  "
            ]
          },
          "metadata": {},
          "execution_count": 2
        }
      ],
      "source": [
        "df = pd.read_csv('all-data.csv',delimiter=',',encoding='latin-1')\n",
        "df.head()"
      ]
    },
    {
      "cell_type": "code",
      "execution_count": 3,
      "metadata": {
        "execution": {
          "iopub.execute_input": "2020-10-12T12:26:49.811562Z",
          "iopub.status.busy": "2020-10-12T12:26:49.810579Z",
          "iopub.status.idle": "2020-10-12T12:26:49.813757Z",
          "shell.execute_reply": "2020-10-12T12:26:49.813059Z"
        },
        "papermill": {
          "duration": 0.056875,
          "end_time": "2020-10-12T12:26:49.813890",
          "exception": false,
          "start_time": "2020-10-12T12:26:49.757015",
          "status": "completed"
        },
        "tags": [],
        "id": "5iMIpoCIDLNr"
      },
      "outputs": [],
      "source": [
        "df = df.rename(columns={'neutral':'sentiment','According to Gran , the company has no plans to move all production to Russia , although that is where the company is growing .':'Message'})"
      ]
    },
    {
      "cell_type": "code",
      "execution_count": 4,
      "metadata": {
        "_cell_guid": "79c7e3d0-c299-4dcb-8224-4455121ee9b0",
        "_uuid": "d629ff2d2480ee46fbb7e2d37f6b5fab8052498a",
        "execution": {
          "iopub.execute_input": "2020-10-12T12:26:49.916465Z",
          "iopub.status.busy": "2020-10-12T12:26:49.915342Z",
          "iopub.status.idle": "2020-10-12T12:26:49.919670Z",
          "shell.execute_reply": "2020-10-12T12:26:49.918929Z"
        },
        "papermill": {
          "duration": 0.057305,
          "end_time": "2020-10-12T12:26:49.919790",
          "exception": false,
          "start_time": "2020-10-12T12:26:49.862485",
          "status": "completed"
        },
        "tags": [],
        "colab": {
          "base_uri": "https://localhost:8080/"
        },
        "id": "iLPBYfgGDLNr",
        "outputId": "cd2d3f05-0fa4-41f1-b16f-d4987682ba5b"
      },
      "outputs": [
        {
          "output_type": "execute_result",
          "data": {
            "text/plain": [
              "(4845, 2)"
            ]
          },
          "metadata": {},
          "execution_count": 4
        }
      ],
      "source": [
        "df.shape"
      ]
    },
    {
      "cell_type": "code",
      "execution_count": 5,
      "metadata": {
        "execution": {
          "iopub.execute_input": "2020-10-12T12:26:50.035463Z",
          "iopub.status.busy": "2020-10-12T12:26:50.026822Z",
          "iopub.status.idle": "2020-10-12T12:26:50.039928Z",
          "shell.execute_reply": "2020-10-12T12:26:50.039206Z"
        },
        "papermill": {
          "duration": 0.072332,
          "end_time": "2020-10-12T12:26:50.040050",
          "exception": false,
          "start_time": "2020-10-12T12:26:49.967718",
          "status": "completed"
        },
        "tags": [],
        "colab": {
          "base_uri": "https://localhost:8080/"
        },
        "id": "SfuFXl8hDLNs",
        "outputId": "603af13e-43f0-4703-b942-b491b2f333e0"
      },
      "outputs": [
        {
          "output_type": "execute_result",
          "data": {
            "text/plain": [
              "111964"
            ]
          },
          "metadata": {},
          "execution_count": 5
        }
      ],
      "source": [
        "df.index = range(4845)\n",
        "df['Message'].apply(lambda x: len(x.split(' '))).sum()"
      ]
    },
    {
      "cell_type": "markdown",
      "metadata": {
        "papermill": {
          "duration": 0.048672,
          "end_time": "2020-10-12T12:26:50.137220",
          "exception": false,
          "start_time": "2020-10-12T12:26:50.088548",
          "status": "completed"
        },
        "tags": [],
        "id": "bWrmV2O7DLNt"
      },
      "source": [
        "VISUALIZING THE DATA"
      ]
    },
    {
      "cell_type": "code",
      "execution_count": 6,
      "metadata": {
        "execution": {
          "iopub.execute_input": "2020-10-12T12:26:50.245448Z",
          "iopub.status.busy": "2020-10-12T12:26:50.242774Z",
          "iopub.status.idle": "2020-10-12T12:26:50.442947Z",
          "shell.execute_reply": "2020-10-12T12:26:50.442238Z"
        },
        "papermill": {
          "duration": 0.257927,
          "end_time": "2020-10-12T12:26:50.443105",
          "exception": false,
          "start_time": "2020-10-12T12:26:50.185178",
          "status": "completed"
        },
        "tags": [],
        "colab": {
          "base_uri": "https://localhost:8080/",
          "height": 442
        },
        "id": "r_xZh4oODLNt",
        "outputId": "8eebf44c-88fa-480c-90b0-d46177ee9724"
      },
      "outputs": [
        {
          "output_type": "display_data",
          "data": {
            "text/plain": [
              "<Figure size 1200x400 with 1 Axes>"
            ],
            "image/png": "[encoded data removed]"
          },
          "metadata": {}
        }
      ],
      "source": [
        "cnt_pro = df['sentiment'].value_counts()\n",
        "plt.figure(figsize=(12,4))\n",
        "cnt_pro.plot.bar()\n",
        "plt.ylabel('Number of Occurrences', fontsize=12)\n",
        "plt.xlabel('sentiment', fontsize=12)\n",
        "plt.xticks(rotation=90)\n",
        "plt.show();"
      ]
    },
    {
      "cell_type": "code",
      "execution_count": 7,
      "metadata": {
        "execution": {
          "iopub.execute_input": "2020-10-12T12:26:50.556412Z",
          "iopub.status.busy": "2020-10-12T12:26:50.555556Z",
          "iopub.status.idle": "2020-10-12T12:26:50.559713Z",
          "shell.execute_reply": "2020-10-12T12:26:50.559124Z"
        },
        "papermill": {
          "duration": 0.067554,
          "end_time": "2020-10-12T12:26:50.559841",
          "exception": false,
          "start_time": "2020-10-12T12:26:50.492287",
          "status": "completed"
        },
        "tags": [],
        "colab": {
          "base_uri": "https://localhost:8080/"
        },
        "id": "dnzTqWvSDLNu",
        "outputId": "b85d110a-48fe-4010-d9ee-d9aaec716fab"
      },
      "outputs": [
        {
          "output_type": "stream",
          "name": "stdout",
          "text": [
            "      sentiment                                            Message\n",
            "0             1  Technopolis plans to develop in stages an area...\n",
            "1             2  The international electronic industry company ...\n",
            "2             0  With the new production plant the company woul...\n",
            "3             0  According to the company 's updated strategy f...\n",
            "4             0  FINANCING OF ASPOCOMP 'S GROWTH Aspocomp is ag...\n",
            "...         ...                                                ...\n",
            "4840          2  LONDON MarketWatch -- Share prices ended lower...\n",
            "4841          1  Rinkuskiai 's beer sales fell by 6.5 per cent ...\n",
            "4842          2  Operating profit fell to EUR 35.4 mn from EUR ...\n",
            "4843          2  Net sales of the Paper segment decreased to EU...\n",
            "4844          2  Sales in Finland decreased by 10.5 % in Januar...\n",
            "\n",
            "[4845 rows x 2 columns]\n"
          ]
        }
      ],
      "source": [
        "#Convert sting to numeric\n",
        "sentiment  = {'positive': 0,'neutral': 1,'negative':2} \n",
        "\n",
        "df.sentiment = [sentiment[item] for item in df.sentiment] \n",
        "print(df)"
      ]
    },
    {
      "cell_type": "code",
      "execution_count": 8,
      "metadata": {
        "execution": {
          "iopub.execute_input": "2020-10-12T12:26:50.666951Z",
          "iopub.status.busy": "2020-10-12T12:26:50.666213Z",
          "iopub.status.idle": "2020-10-12T12:26:50.688240Z",
          "shell.execute_reply": "2020-10-12T12:26:50.687469Z"
        },
        "papermill": {
          "duration": 0.0786,
          "end_time": "2020-10-12T12:26:50.688365",
          "exception": false,
          "start_time": "2020-10-12T12:26:50.609765",
          "status": "completed"
        },
        "tags": [],
        "colab": {
          "base_uri": "https://localhost:8080/"
        },
        "id": "3poTliHLDLNu",
        "outputId": "e1ae39a5-af89-4559-858d-e2ac9394d40d"
      },
      "outputs": [
        {
          "output_type": "stream",
          "name": "stdout",
          "text": [
            "Finnish Talentum reports its operating profit increased to EUR 20.5 mn in 2005 from EUR 9.3 mn in 2004 , and net sales totaled EUR 103.3 mn , up from EUR 96.4 mn .\n",
            "Message: 0\n"
          ]
        }
      ],
      "source": [
        "def print_message(index):\n",
        "    example = df[df.index == index][['Message', 'sentiment']].values[0]\n",
        "    if len(example) > 0:\n",
        "        print(example[0])\n",
        "        print('Message:', example[1])\n",
        "print_message(12)"
      ]
    },
    {
      "cell_type": "code",
      "execution_count": 9,
      "metadata": {
        "execution": {
          "iopub.execute_input": "2020-10-12T12:26:50.797821Z",
          "iopub.status.busy": "2020-10-12T12:26:50.796782Z",
          "iopub.status.idle": "2020-10-12T12:26:50.800382Z",
          "shell.execute_reply": "2020-10-12T12:26:50.801184Z"
        },
        "papermill": {
          "duration": 0.062132,
          "end_time": "2020-10-12T12:26:50.801381",
          "exception": false,
          "start_time": "2020-10-12T12:26:50.739249",
          "status": "completed"
        },
        "tags": [],
        "colab": {
          "base_uri": "https://localhost:8080/"
        },
        "id": "B_3UzPwsDLNv",
        "outputId": "39b1f0c3-14b3-4c3f-ab36-77bc50feb530"
      },
      "outputs": [
        {
          "output_type": "stream",
          "name": "stdout",
          "text": [
            "Technopolis plans to develop in stages an area of no less than 100,000 square meters in order to host companies working in computer technologies and telecommunications , the statement said .\n",
            "Message: 1\n"
          ]
        }
      ],
      "source": [
        "print_message(0)"
      ]
    },
    {
      "cell_type": "markdown",
      "metadata": {
        "papermill": {
          "duration": 0.05082,
          "end_time": "2020-10-12T12:26:50.904555",
          "exception": false,
          "start_time": "2020-10-12T12:26:50.853735",
          "status": "completed"
        },
        "tags": [],
        "id": "z5W5J3XtDLNv"
      },
      "source": [
        "Text Preprocessing Below we define a function to convert text to lower-case and strip punctuation/symbols from words and so on."
      ]
    },
    {
      "cell_type": "code",
      "execution_count": 10,
      "metadata": {
        "execution": {
          "iopub.execute_input": "2020-10-12T12:26:51.014576Z",
          "iopub.status.busy": "2020-10-12T12:26:51.013707Z",
          "iopub.status.idle": "2020-10-12T12:26:52.465841Z",
          "shell.execute_reply": "2020-10-12T12:26:52.465013Z"
        },
        "papermill": {
          "duration": 1.51066,
          "end_time": "2020-10-12T12:26:52.465985",
          "exception": false,
          "start_time": "2020-10-12T12:26:50.955325",
          "status": "completed"
        },
        "tags": [],
        "colab": {
          "base_uri": "https://localhost:8080/"
        },
        "id": "0wv5d-QMDLNw",
        "outputId": "a7f95314-f4cc-45a3-fd53-208b96d81fc9"
      },
      "outputs": [
        {
          "output_type": "stream",
          "name": "stderr",
          "text": [
            "<ipython-input-10-4efd08c71645>:2: MarkupResemblesLocatorWarning: The input looks more like a filename than markup. You may want to open this file and pass the filehandle into Beautiful Soup.\n",
            "  text = BeautifulSoup(text, \"lxml\").text\n"
          ]
        }
      ],
      "source": [
        "def cleanText(text):\n",
        "    text = BeautifulSoup(text, \"lxml\").text\n",
        "    text = re.sub(r'\\|\\|\\|', r' ', text) \n",
        "    text = re.sub(r'http\\S+', r'<URL>', text)\n",
        "    text = text.lower()\n",
        "    text = text.replace('x', '')\n",
        "    return text\n",
        "df['Message'] = df['Message'].apply(cleanText)"
      ]
    },
    {
      "cell_type": "code",
      "execution_count": 11,
      "metadata": {
        "execution": {
          "iopub.execute_input": "2020-10-12T12:26:52.590236Z",
          "iopub.status.busy": "2020-10-12T12:26:52.589006Z",
          "iopub.status.idle": "2020-10-12T12:26:56.862817Z",
          "shell.execute_reply": "2020-10-12T12:26:56.861767Z"
        },
        "papermill": {
          "duration": 4.34599,
          "end_time": "2020-10-12T12:26:56.862994",
          "exception": false,
          "start_time": "2020-10-12T12:26:52.517004",
          "status": "completed"
        },
        "tags": [],
        "colab": {
          "base_uri": "https://localhost:8080/"
        },
        "id": "kwVnk1wxDLNw",
        "outputId": "1f749d90-50c8-42f3-b99d-d168443d1591"
      },
      "outputs": [
        {
          "output_type": "stream",
          "name": "stderr",
          "text": [
            "[nltk_data] Downloading package punkt to /root/nltk_data...\n",
            "[nltk_data]   Package punkt is already up-to-date!\n",
            "<ipython-input-10-4efd08c71645>:2: MarkupResemblesLocatorWarning: The input looks more like a filename than markup. You may want to open this file and pass the filehandle into Beautiful Soup.\n",
            "  text = BeautifulSoup(text, \"lxml\").text\n"
          ]
        },
        {
          "output_type": "stream",
          "name": "stdout",
          "text": [
            "Found 4845 unique tokens.\n"
          ]
        }
      ],
      "source": [
        "nltk.download('punkt')\n",
        "df['Message'] = df['Message'].apply(cleanText)\n",
        "train, test = train_test_split(df, test_size=0.000001 , random_state=42)\n",
        "\n",
        "def tokenize_text(text):\n",
        "    tokens = []\n",
        "    for sent in nltk.sent_tokenize(text):\n",
        "        for word in nltk.word_tokenize(sent):\n",
        "            if len(word) <= 0:\n",
        "                continue\n",
        "            tokens.append(word.lower())\n",
        "    return tokens\n",
        "train_tagged = train.apply(\n",
        "    lambda r: TaggedDocument(words=tokenize_text(r['Message']), tags=[r.sentiment]), axis=1)\n",
        "test_tagged = test.apply(\n",
        "    lambda r: TaggedDocument(words=tokenize_text(r['Message']), tags=[r.sentiment]), axis=1)\n",
        "\n",
        "# The maximum number of words to be used. (most frequent)\n",
        "max_features = 500000\n",
        "\n",
        "# Max number of words in each complaint.\n",
        "MAX_SEQUENCE_LENGTH = 50\n",
        "\n",
        "tokenizer = Tokenizer(num_words=max_features, split=' ', filters='!\"#$%&()*+,-./:;<=>?@[\\]^_`{|}~', lower=True)\n",
        "tokenizer.fit_on_texts(df['Message'].values)\n",
        "X = tokenizer.texts_to_sequences(df['Message'].values)\n",
        "X = pad_sequences(X)\n",
        "print('Found %s unique tokens.' % len(X))"
      ]
    },
    {
      "cell_type": "code",
      "execution_count": 12,
      "metadata": {
        "execution": {
          "iopub.execute_input": "2020-10-12T12:26:57.004735Z",
          "iopub.status.busy": "2020-10-12T12:26:56.989207Z",
          "iopub.status.idle": "2020-10-12T12:26:57.168898Z",
          "shell.execute_reply": "2020-10-12T12:26:57.168096Z"
        },
        "papermill": {
          "duration": 0.254585,
          "end_time": "2020-10-12T12:26:57.169086",
          "exception": false,
          "start_time": "2020-10-12T12:26:56.914501",
          "status": "completed"
        },
        "tags": [],
        "colab": {
          "base_uri": "https://localhost:8080/"
        },
        "id": "WnGj80_FDLNx",
        "outputId": "cf2af44a-e9a5-4f60-ce19-f8be4d2f5a2a"
      },
      "outputs": [
        {
          "output_type": "stream",
          "name": "stdout",
          "text": [
            "Shape of data tensor: (4845, 50)\n"
          ]
        }
      ],
      "source": [
        "X = tokenizer.texts_to_sequences(df['Message'].values)\n",
        "X = pad_sequences(X, maxlen=MAX_SEQUENCE_LENGTH)\n",
        "print('Shape of data tensor:', X.shape)"
      ]
    },
    {
      "cell_type": "code",
      "execution_count": 13,
      "metadata": {
        "execution": {
          "iopub.execute_input": "2020-10-12T12:26:57.279508Z",
          "iopub.status.busy": "2020-10-12T12:26:57.278622Z",
          "iopub.status.idle": "2020-10-12T12:26:57.283858Z",
          "shell.execute_reply": "2020-10-12T12:26:57.283268Z"
        },
        "papermill": {
          "duration": 0.062472,
          "end_time": "2020-10-12T12:26:57.283990",
          "exception": false,
          "start_time": "2020-10-12T12:26:57.221518",
          "status": "completed"
        },
        "tags": [],
        "colab": {
          "base_uri": "https://localhost:8080/"
        },
        "id": "AUVxC0jQDLNz",
        "outputId": "29f5b2f9-cf11-428c-885f-8f9d930e1ea5"
      },
      "outputs": [
        {
          "output_type": "execute_result",
          "data": {
            "text/plain": [
              "array([TaggedDocument(words=['upm-kymmene', 'has', 'generated', 'four', 'consecutive', 'quarters', 'of', 'positive', 'free', 'cash', 'flow', '.'], tags=[0]),\n",
              "       TaggedDocument(words=['in', 'the', 'method', 'the', 'smelt', 'spouts', '2', 'are', 'separated', 'from', 'the', 'working', 'area', '6', 'by', 'a', 'shielding', 'wall', '8', ',', '10', 'arranged', 'movable', 'in', 'relation', 'to', 'the', 'smelt', 'spouts', '.'], tags=[1]),\n",
              "       TaggedDocument(words=['``', 'that', \"'s\", 'a', 'very', 'high', 'figure', 'on', 'the', 'european', 'scale', ',', '``', 'noop', 'said', ',', 'recalling', 'however', 'that', 'this', 'also', 'includes', 'beer', 'bought', 'by', 'finnish', 'tourists', '.'], tags=[1]),\n",
              "       ...,\n",
              "       TaggedDocument(words=['proha', 'plc', '(', 'euronet', ':7327', ')', 'announced', 'today', '(', '19', 'may', ')', 'that', 'its', 'fully-owned', 'subsidiary', ',', 'safran', 'software', 'solutions', 'as', ',', 'has', 'agreed', 'to', 'sell', 'its', '49', '%', 'share', 'of', 'safran', 'north', 'america', 'llc', 'to', 'a', 'sna', 'holding', 'as', ',', 'an', 'investment', 'group', 'based', 'in', 'norway', '.'], tags=[1]),\n",
              "       TaggedDocument(words=['the', 'building', 'will', 'house', 'product', 'development', 'and', 'test', 'laboratories', '.'], tags=[1]),\n",
              "       TaggedDocument(words=['(', 'adp', 'news', ')', '-', 'oct', '31', ',', '2008', '-', 'finnish', 'food', 'company', 'raisio', 'oyj', '(', 'om', ':', 'raivv', ')', 'said', 'today', 'that', 'its', 'net', 'profit', 'jumped', 'to', 'eur', '16.4', 'million', '(', 'usd', '20.9', 'm', ')', 'for', 'the', 'first', 'nine', 'months', 'of', '2008', 'from', 'eur', '1.1', 'million', 'for', 'the', 'same', 'period', 'of', '2'], tags=[0])],\n",
              "      dtype=object)"
            ]
          },
          "metadata": {},
          "execution_count": 13
        }
      ],
      "source": [
        "#train_tagged.values[2173]\n",
        "train_tagged.values"
      ]
    },
    {
      "cell_type": "markdown",
      "metadata": {
        "papermill": {
          "duration": 0.052552,
          "end_time": "2020-10-12T12:26:57.388708",
          "exception": false,
          "start_time": "2020-10-12T12:26:57.336156",
          "status": "completed"
        },
        "tags": [],
        "id": "19Wc_n0tDLN0"
      },
      "source": [
        "Model DM = 1\n",
        "\n",
        "This work use DM=1 (it preserve word order)"
      ]
    },
    {
      "cell_type": "code",
      "execution_count": 14,
      "metadata": {
        "execution": {
          "iopub.execute_input": "2020-10-12T12:26:57.500829Z",
          "iopub.status.busy": "2020-10-12T12:26:57.499982Z",
          "iopub.status.idle": "2020-10-12T12:27:02.496799Z",
          "shell.execute_reply": "2020-10-12T12:27:02.496132Z"
        },
        "papermill": {
          "duration": 5.055169,
          "end_time": "2020-10-12T12:27:02.496925",
          "exception": false,
          "start_time": "2020-10-12T12:26:57.441756",
          "status": "completed"
        },
        "tags": [],
        "colab": {
          "base_uri": "https://localhost:8080/"
        },
        "id": "Kd5JmjhNDLN0",
        "outputId": "d375c061-40d3-4b62-ec4c-60373eddd6b1"
      },
      "outputs": [
        {
          "output_type": "stream",
          "name": "stderr",
          "text": [
            "100%|██████████| 4844/4844 [00:00<00:00, 1436454.23it/s]\n"
          ]
        }
      ],
      "source": [
        "d2v_model = Doc2Vec(dm=1, dm_mean=1, vector_size=20, window=8, min_count=1, workers=1, alpha=0.065, min_alpha=0.065)\n",
        "d2v_model.build_vocab([x for x in tqdm(train_tagged.values)])\n"
      ]
    },
    {
      "cell_type": "code",
      "execution_count": 15,
      "metadata": {
        "execution": {
          "iopub.execute_input": "2020-10-12T12:27:02.612438Z",
          "iopub.status.busy": "2020-10-12T12:27:02.611409Z",
          "iopub.status.idle": "2020-10-12T12:27:16.819216Z",
          "shell.execute_reply": "2020-10-12T12:27:16.818556Z"
        },
        "papermill": {
          "duration": 14.268056,
          "end_time": "2020-10-12T12:27:16.819361",
          "exception": false,
          "start_time": "2020-10-12T12:27:02.551305",
          "status": "completed"
        },
        "tags": [],
        "colab": {
          "base_uri": "https://localhost:8080/"
        },
        "id": "Kw1VemrwDLN1",
        "outputId": "4c218706-666b-4ca0-efc0-7f189f9a2d25"
      },
      "outputs": [
        {
          "output_type": "stream",
          "name": "stderr",
          "text": [
            "100%|██████████| 4844/4844 [00:00<00:00, 469631.75it/s]\n",
            "100%|██████████| 4844/4844 [00:00<00:00, 1899869.89it/s]\n",
            "100%|██████████| 4844/4844 [00:00<00:00, 1621355.72it/s]\n",
            "100%|██████████| 4844/4844 [00:00<00:00, 1057416.91it/s]\n",
            "100%|██████████| 4844/4844 [00:00<00:00, 1159194.88it/s]\n",
            "100%|██████████| 4844/4844 [00:00<00:00, 2082534.70it/s]\n",
            "100%|██████████| 4844/4844 [00:00<00:00, 2488634.07it/s]\n",
            "100%|██████████| 4844/4844 [00:00<00:00, 2147923.52it/s]\n",
            "100%|██████████| 4844/4844 [00:00<00:00, 2021411.66it/s]\n",
            "100%|██████████| 4844/4844 [00:00<00:00, 1945161.18it/s]\n",
            "100%|██████████| 4844/4844 [00:00<00:00, 2138878.68it/s]\n",
            "100%|██████████| 4844/4844 [00:00<00:00, 2238564.19it/s]\n",
            "100%|██████████| 4844/4844 [00:00<00:00, 2438455.18it/s]\n",
            "100%|██████████| 4844/4844 [00:00<00:00, 1718157.17it/s]\n",
            "100%|██████████| 4844/4844 [00:00<00:00, 2231189.17it/s]\n",
            "100%|██████████| 4844/4844 [00:00<00:00, 2109563.76it/s]\n",
            "100%|██████████| 4844/4844 [00:00<00:00, 1976959.09it/s]\n",
            "100%|██████████| 4844/4844 [00:00<00:00, 2023424.82it/s]\n",
            "100%|██████████| 4844/4844 [00:00<00:00, 1679108.15it/s]\n",
            "100%|██████████| 4844/4844 [00:00<00:00, 2968182.41it/s]\n",
            "100%|██████████| 4844/4844 [00:00<00:00, 920788.97it/s]\n",
            "100%|██████████| 4844/4844 [00:00<00:00, 2009813.89it/s]\n",
            "100%|██████████| 4844/4844 [00:00<00:00, 2652377.10it/s]\n",
            "100%|██████████| 4844/4844 [00:00<00:00, 1987013.06it/s]\n",
            "100%|██████████| 4844/4844 [00:00<00:00, 1085263.00it/s]\n",
            "100%|██████████| 4844/4844 [00:00<00:00, 1558785.37it/s]\n",
            "100%|██████████| 4844/4844 [00:00<00:00, 1721068.07it/s]\n",
            "100%|██████████| 4844/4844 [00:00<00:00, 2081467.94it/s]\n",
            "100%|██████████| 4844/4844 [00:00<00:00, 2008026.15it/s]\n",
            "100%|██████████| 4844/4844 [00:00<00:00, 2160485.81it/s]\n"
          ]
        },
        {
          "output_type": "stream",
          "name": "stdout",
          "text": [
            "CPU times: user 14.6 s, sys: 135 ms, total: 14.7 s\n",
            "Wall time: 22.5 s\n"
          ]
        }
      ],
      "source": [
        "%%time\n",
        "for epoch in range(30):\n",
        "    d2v_model.train(utils.shuffle([x for x in tqdm(train_tagged.values)]), total_examples=len(train_tagged.values), epochs=1)\n",
        "    d2v_model.alpha -= 0.002\n",
        "    d2v_model.min_alpha = d2v_model.alpha"
      ]
    },
    {
      "cell_type": "code",
      "execution_count": 16,
      "metadata": {
        "execution": {
          "iopub.execute_input": "2020-10-12T12:27:17.010712Z",
          "iopub.status.busy": "2020-10-12T12:27:17.009541Z",
          "iopub.status.idle": "2020-10-12T12:27:17.013494Z",
          "shell.execute_reply": "2020-10-12T12:27:17.014661Z"
        },
        "papermill": {
          "duration": 0.102522,
          "end_time": "2020-10-12T12:27:17.014909",
          "exception": false,
          "start_time": "2020-10-12T12:27:16.912387",
          "status": "completed"
        },
        "tags": [],
        "colab": {
          "base_uri": "https://localhost:8080/"
        },
        "id": "CGB3yQt6DLN2",
        "outputId": "5825e516-bbe4-44e2-9301-9ad059089fb5"
      },
      "outputs": [
        {
          "output_type": "stream",
          "name": "stdout",
          "text": [
            "Doc2Vec<dm/m,d20,n5,w8,s0.001>\n"
          ]
        }
      ],
      "source": [
        "print(d2v_model)\n"
      ]
    },
    {
      "cell_type": "code",
      "source": [
        "d2v_model.wv.vectors.shape"
      ],
      "metadata": {
        "colab": {
          "base_uri": "https://localhost:8080/"
        },
        "id": "kTyJG-QJJz4F",
        "outputId": "27602e03-8c88-428d-df3a-e9c030b5dbfb"
      },
      "execution_count": 17,
      "outputs": [
        {
          "output_type": "execute_result",
          "data": {
            "text/plain": [
              "(11682, 20)"
            ]
          },
          "metadata": {},
          "execution_count": 17
        }
      ]
    },
    {
      "cell_type": "markdown",
      "metadata": {
        "papermill": {
          "duration": 0.089396,
          "end_time": "2020-10-12T12:27:17.576795",
          "exception": false,
          "start_time": "2020-10-12T12:27:17.487399",
          "status": "completed"
        },
        "tags": [],
        "id": "OPimCgkbDLN4"
      },
      "source": [
        "# Measuring distance between two vectors (related to cosine similarity)"
      ]
    },
    {
      "cell_type": "code",
      "execution_count": 18,
      "metadata": {
        "execution": {
          "iopub.execute_input": "2020-10-12T12:27:17.761221Z",
          "iopub.status.busy": "2020-10-12T12:27:17.760471Z",
          "iopub.status.idle": "2020-10-12T12:27:17.771803Z",
          "shell.execute_reply": "2020-10-12T12:27:17.772439Z"
        },
        "papermill": {
          "duration": 0.106359,
          "end_time": "2020-10-12T12:27:17.772620",
          "exception": false,
          "start_time": "2020-10-12T12:27:17.666261",
          "status": "completed"
        },
        "tags": [],
        "colab": {
          "base_uri": "https://localhost:8080/"
        },
        "id": "FhGf0XtzDLN5",
        "outputId": "6f570105-4990-4745-bfc1-3b7b73a2512a"
      },
      "outputs": [
        {
          "output_type": "execute_result",
          "data": {
            "text/plain": [
              "[('loss', 0.901703417301178),\n",
              " ('bill', 0.8083328008651733),\n",
              " ('profits', 0.7969247698783875),\n",
              " ('sales', 0.7962247133255005),\n",
              " ('income', 0.777824342250824),\n",
              " ('turnover', 0.7385552525520325),\n",
              " ('walby', 0.7384971976280212),\n",
              " ('director', 0.7129343748092651),\n",
              " ('atul', 0.7102553248405457),\n",
              " ('eur121m', 0.7090650200843811)]"
            ]
          },
          "metadata": {},
          "execution_count": 18
        }
      ],
      "source": [
        "d2v_model.wv.most_similar(positive=['profit'], topn=10)"
      ]
    },
    {
      "cell_type": "code",
      "execution_count": 19,
      "metadata": {
        "execution": {
          "iopub.execute_input": "2020-10-12T12:27:17.965398Z",
          "iopub.status.busy": "2020-10-12T12:27:17.964632Z",
          "iopub.status.idle": "2020-10-12T12:27:17.971853Z",
          "shell.execute_reply": "2020-10-12T12:27:17.971196Z"
        },
        "papermill": {
          "duration": 0.10422,
          "end_time": "2020-10-12T12:27:17.971999",
          "exception": false,
          "start_time": "2020-10-12T12:27:17.867779",
          "status": "completed"
        },
        "tags": [],
        "colab": {
          "base_uri": "https://localhost:8080/"
        },
        "id": "3ytSIq7ZDLN6",
        "outputId": "b81f9159-f14e-4015-f507-351bdab0f95e"
      },
      "outputs": [
        {
          "output_type": "execute_result",
          "data": {
            "text/plain": [
              "[('syndicated', 0.7342209815979004),\n",
              " ('hammaslaakarit', 0.7237444519996643),\n",
              " ('itikka', 0.7133720517158508),\n",
              " ('tieto', 0.7107313871383667),\n",
              " ('+_land', 0.7027835249900818),\n",
              " ('hardest', 0.7016779780387878),\n",
              " ('innovationsmanagement', 0.6980165839195251),\n",
              " ('insurance', 0.6858388781547546),\n",
              " ('8,000', 0.6770702004432678),\n",
              " ('property', 0.6678339838981628)]"
            ]
          },
          "metadata": {},
          "execution_count": 19
        }
      ],
      "source": [
        "d2v_model.wv.most_similar(positive=['investment'], topn=10)\n"
      ]
    },
    {
      "cell_type": "code",
      "execution_count": 20,
      "metadata": {
        "execution": {
          "iopub.execute_input": "2020-10-12T12:27:18.168986Z",
          "iopub.status.busy": "2020-10-12T12:27:18.168217Z",
          "iopub.status.idle": "2020-10-12T12:27:18.175299Z",
          "shell.execute_reply": "2020-10-12T12:27:18.174527Z"
        },
        "papermill": {
          "duration": 0.108079,
          "end_time": "2020-10-12T12:27:18.175427",
          "exception": false,
          "start_time": "2020-10-12T12:27:18.067348",
          "status": "completed"
        },
        "tags": [],
        "colab": {
          "base_uri": "https://localhost:8080/"
        },
        "id": "-tbzrAgjDLN7",
        "outputId": "79f9de9c-87a6-4822-9536-1db8b1cd594f"
      },
      "outputs": [
        {
          "output_type": "execute_result",
          "data": {
            "text/plain": [
              "[('mold', 0.9757233262062073),\n",
              " ('macro-economic', 0.8910154104232788),\n",
              " ('gather', 0.8735294938087463),\n",
              " ('mika', 0.8611525893211365),\n",
              " ('convinced', 0.8579286932945251),\n",
              " ('mursula', 0.855603814125061),\n",
              " ('artemyev', 0.8481480479240417),\n",
              " ('mda', 0.8450372219085693),\n",
              " ('aboavista', 0.8449133038520813),\n",
              " ('frank', 0.8407430648803711)]"
            ]
          },
          "metadata": {},
          "execution_count": 20
        }
      ],
      "source": [
        "d2v_model.wv.most_similar(positive=['broke'], topn=10)"
      ]
    },
    {
      "cell_type": "markdown",
      "metadata": {
        "papermill": {
          "duration": 0.091436,
          "end_time": "2020-10-12T12:27:18.361351",
          "exception": false,
          "start_time": "2020-10-12T12:27:18.269915",
          "status": "completed"
        },
        "tags": [],
        "id": "HMezDutyDLN7"
      },
      "source": [
        "Plot Similarity word in Doc2vec"
      ]
    },
    {
      "cell_type": "code",
      "execution_count": 21,
      "metadata": {
        "execution": {
          "iopub.execute_input": "2020-10-12T12:27:18.566535Z",
          "iopub.status.busy": "2020-10-12T12:27:18.563808Z",
          "iopub.status.idle": "2020-10-12T12:27:18.682597Z",
          "shell.execute_reply": "2020-10-12T12:27:18.681749Z"
        },
        "papermill": {
          "duration": 0.229098,
          "end_time": "2020-10-12T12:27:18.682727",
          "exception": false,
          "start_time": "2020-10-12T12:27:18.453629",
          "status": "completed"
        },
        "tags": [],
        "id": "weRpfZRhDLN8"
      },
      "outputs": [],
      "source": [
        "# from sklearn.manifold import TSNE\n",
        "# import matplotlib.pyplot as plt\n",
        "# %matplotlib inline\n",
        "\n",
        "# def tsne_plot(model):\n",
        "#     \"Creates and TSNE model and plots it\"\n",
        "#     labels = []\n",
        "#     tokens = []\n",
        "\n",
        "#     for word in d2v_model.wv.key_to_index:\n",
        "#         tokens.append(model[word])\n",
        "#         labels.append(word)\n",
        "    \n",
        "#     tsne_model = TSNE(perplexity=40, n_components=2, init='pca', n_iter=250, random_state=23)\n",
        "#     new_values = tsne_model.fit_transform(np.array(tokens))\n",
        "\n",
        "#     x = []\n",
        "#     y = []\n",
        "#     for value in new_values:\n",
        "#         x.append(value[0])\n",
        "#         y.append(value[1])\n",
        "        \n",
        "#     plt.figure(figsize=(16, 16)) \n",
        "#     for i in range(len(x)):\n",
        "#         plt.scatter(x[i],y[i])\n",
        "#         plt.annotate(labels[i], xy=(x[i], y[i]), xytext=(5, 2), textcoords='offset points', ha='right', va='bottom')\n",
        "#     plt.show()"
      ]
    },
    {
      "cell_type": "code",
      "execution_count": 22,
      "metadata": {
        "execution": {
          "iopub.execute_input": "2020-10-12T12:27:18.906477Z",
          "iopub.status.busy": "2020-10-12T12:27:18.890965Z",
          "iopub.status.idle": "2020-10-12T12:41:07.304510Z",
          "shell.execute_reply": "2020-10-12T12:41:07.305281Z"
        },
        "papermill": {
          "duration": 828.530585,
          "end_time": "2020-10-12T12:41:07.305476",
          "exception": false,
          "start_time": "2020-10-12T12:27:18.774891",
          "status": "completed"
        },
        "tags": [],
        "id": "flMmYROKDLN9"
      },
      "outputs": [],
      "source": [
        "# tsne_plot(d2v_model)"
      ]
    },
    {
      "cell_type": "markdown",
      "metadata": {
        "papermill": {
          "duration": 0.121792,
          "end_time": "2020-10-12T12:41:07.554437",
          "exception": false,
          "start_time": "2020-10-12T12:41:07.432645",
          "status": "completed"
        },
        "tags": [],
        "id": "WH1efUcVDLN9"
      },
      "source": [
        "# Create the LSTM Model\n",
        "\n",
        "The parameter used here inspired by [3].\n",
        "\n"
      ]
    },
    {
      "cell_type": "code",
      "source": [
        "df.groupby('sentiment').size().plot(kind='pie', y = \"sentiment\", label = \"Type\", autopct='%1.1f%%')"
      ],
      "metadata": {
        "colab": {
          "base_uri": "https://localhost:8080/",
          "height": 424
        },
        "id": "d2WDXLBn7Kbd",
        "outputId": "5e369a77-0707-4f5d-c8a7-2341edf38613"
      },
      "execution_count": 23,
      "outputs": [
        {
          "output_type": "execute_result",
          "data": {
            "text/plain": [
              "<Axes: ylabel='Type'>"
            ]
          },
          "metadata": {},
          "execution_count": 23
        },
        {
          "output_type": "display_data",
          "data": {
            "text/plain": [
              "<Figure size 640x480 with 1 Axes>"
            ],
            "image/png": "[encoded data removed]"
          },
          "metadata": {}
        }
      ]
    },
    {
      "cell_type": "code",
      "source": [
        "# from sklearn.utils.class_weight import compute_class_weight\n",
        "\n",
        "# class_weights = compute_class_weight(class_weight = \"balanced\", classes= np.unique(df['sentiment'].values), y = df['sentiment'].values)\n",
        "# class_weights = dict(zip(np.unique(df['sentiment'].values), class_weights))\n",
        "# class_weights"
      ],
      "metadata": {
        "id": "tiz0omGkAjuM"
      },
      "execution_count": 24,
      "outputs": []
    },
    {
      "cell_type": "code",
      "source": [
        "Y = pd.get_dummies(df['sentiment']).values\n",
        "X_train, X_test, Y_train, Y_test = train_test_split(X,Y, test_size = 0.2, random_state = 42)\n",
        "X_test, X_val, Y_test, Y_val = train_test_split(X_test,Y_test, test_size = 0.2, random_state = 42)\n",
        "print(X_train.shape,Y_train.shape)\n",
        "print(X_test.shape,Y_test.shape)\n",
        "print(X_val.shape,Y_val.shape)"
      ],
      "metadata": {
        "colab": {
          "base_uri": "https://localhost:8080/"
        },
        "id": "-WUCHqVZXq56",
        "outputId": "6488c4fc-387e-47e6-cfc8-71eaa651b08a"
      },
      "execution_count": 35,
      "outputs": [
        {
          "output_type": "stream",
          "name": "stdout",
          "text": [
            "(3876, 50) (3876, 3)\n",
            "(775, 50) (775, 3)\n",
            "(194, 50) (194, 3)\n"
          ]
        }
      ]
    },
    {
      "cell_type": "code",
      "source": [
        "from imblearn.over_sampling import SMOTE\n",
        "\n",
        "su = SMOTE(random_state=42)\n",
        "X_su, Y_su = su.fit_resample(X_train, Y_train)"
      ],
      "metadata": {
        "id": "IY70nCBR6_ZM"
      },
      "execution_count": 26,
      "outputs": []
    },
    {
      "cell_type": "code",
      "source": [
        "pd.DataFrame(Y_su).value_counts()"
      ],
      "metadata": {
        "colab": {
          "base_uri": "https://localhost:8080/"
        },
        "id": "TJ0SRug96zfZ",
        "outputId": "d153c005-42c3-4cbf-acc1-6c38e01d33f8"
      },
      "execution_count": 27,
      "outputs": [
        {
          "output_type": "execute_result",
          "data": {
            "text/plain": [
              "0  1  2\n",
              "0  0  1    2597\n",
              "   1  0    2597\n",
              "1  0  0    2597\n",
              "dtype: int64"
            ]
          },
          "metadata": {},
          "execution_count": 27
        }
      ]
    },
    {
      "cell_type": "code",
      "source": [
        "# class MyHyperModel(kt.HyperModel):\n",
        "#   def build(self, hp):\n",
        "#     model = Sequential()\n",
        "#     model.add(Embedding(len(d2v_model.wv),20,input_length=X.shape[1],weights=[d2v_model.wv.vectors],trainable=True))\n",
        "#     # hp_units = hp.Int('units', min_value=128, max_value=1024, step=32)\n",
        "#     # hp_units2 = hp.Int('units2', min_value=128, max_value=1024, step=32)\n",
        "#     hp_units3 = hp.Int('units3', min_value=1, max_value=1024, step=32)\n",
        "#     # hp_dropout = hp.Float('dropout', min_value=0.1, max_value=0.8, step=0.1)\n",
        "#     # hp_dropout2 = hp.Float('dropout2', min_value=0.1, max_value=0.8, step=0.1)\n",
        "#     hp_dropout3 = hp.Float('dropout3', min_value=0.1, max_value=0.8, step=0.1)\n",
        "#     model.add(Conv1D(filters=44, kernel_size=3, padding='same', activation='tanh'))\n",
        "#     model.add(MaxPooling1D(pool_size=2))\n",
        "#     model.add(Bidirectional(LSTM(224,return_sequences=True,kernel_initializer='he_uniform', activation='tanh')))\n",
        "#     model.add(Dropout(0.1))\n",
        "#     model.add(Bidirectional(LSTM(832,return_sequences=True,kernel_initializer='he_uniform', activation='tanh')))\n",
        "#     model.add(Dropout(0.5))\n",
        "#     model.add(Bidirectional(LSTM(hp_units3,return_sequences=False,kernel_initializer='he_uniform', activation='tanh')))\n",
        "#     model.add(Dropout(hp_dropout3))\n",
        "#     model.add(Dense(3, activation='softmax'))\n",
        "#     model.compile(loss='binary_crossentropy', optimizer = tf.keras.optimizers.Adam(learning_rate=1e-3),metrics=['acc'])\n",
        "#     return model\n",
        "\n",
        "# tuner = kt.Hyperband(MyHyperModel(), objective='val_loss', max_epochs=50)\n",
        "\n",
        "# reduce_lr = tf.keras.callbacks.ReduceLROnPlateau(monitor='val_loss', factor=0.1,patience=2)\n",
        "# EarlyStopping = tf.keras.callbacks.EarlyStopping(monitor='val_loss', patience=5)\n",
        "\n",
        "# tuner.search(X_train, Y_train, epochs=100, validation_split=0.1, callbacks=[reduce_lr,EarlyStopping])\n",
        "# # Get the optimal hyperparameters\n",
        "# best_hps=tuner.get_best_hyperparameters(num_trials=1)[0]\n",
        "\n",
        "# model = tuner.hypermodel.build(best_hps)\n",
        "# history = model.fit(X_train, Y_train, epochs=100, validation_split=0.1, callbacks=[reduce_lr,EarlyStopping])\n",
        "\n",
        "# val_loss_per_epoch = history.history['val_loss']\n",
        "# best_epoch = val_loss_per_epoch.index(max(val_loss_per_epoch)) + 1\n",
        "# print('Best epoch: %d' % (best_epoch,))"
      ],
      "metadata": {
        "id": "V72LCFHYXD5L"
      },
      "execution_count": 28,
      "outputs": []
    },
    {
      "cell_type": "code",
      "execution_count": 65,
      "metadata": {
        "execution": {
          "iopub.execute_input": "2020-10-12T12:41:07.812571Z",
          "iopub.status.busy": "2020-10-12T12:41:07.810122Z",
          "iopub.status.idle": "2020-10-12T12:41:09.303718Z",
          "shell.execute_reply": "2020-10-12T12:41:09.304591Z"
        },
        "papermill": {
          "duration": 1.627566,
          "end_time": "2020-10-12T12:41:09.304839",
          "exception": false,
          "start_time": "2020-10-12T12:41:07.677273",
          "status": "completed"
        },
        "tags": [],
        "id": "bX8btd6GDLN-",
        "colab": {
          "base_uri": "https://localhost:8080/"
        },
        "outputId": "96d867f2-1bf3-472c-e0f8-a140812d3fc0"
      },
      "outputs": [
        {
          "output_type": "stream",
          "name": "stdout",
          "text": [
            "Model: \"sequential_9\"\n",
            "_________________________________________________________________\n",
            " Layer (type)                Output Shape              Param #   \n",
            "=================================================================\n",
            " embedding_9 (Embedding)     (None, 50, 20)            233640    \n",
            "                                                                 \n",
            " conv1d_9 (Conv1D)           (None, 50, 44)            2684      \n",
            "                                                                 \n",
            " max_pooling1d_9 (MaxPooling  (None, 25, 44)           0         \n",
            " 1D)                                                             \n",
            "                                                                 \n",
            " bidirectional_27 (Bidirecti  (None, 25, 448)          482048    \n",
            " onal)                                                           \n",
            "                                                                 \n",
            " dropout_29 (Dropout)        (None, 25, 448)           0         \n",
            "                                                                 \n",
            " bidirectional_28 (Bidirecti  (None, 25, 1664)         8526336   \n",
            " onal)                                                           \n",
            "                                                                 \n",
            " dropout_30 (Dropout)        (None, 25, 1664)          0         \n",
            "                                                                 \n",
            " bidirectional_29 (Bidirecti  (None, 512)              3934208   \n",
            " onal)                                                           \n",
            "                                                                 \n",
            " dropout_31 (Dropout)        (None, 512)               0         \n",
            "                                                                 \n",
            " dense_9 (Dense)             (None, 3)                 1539      \n",
            "                                                                 \n",
            "=================================================================\n",
            "Total params: 13,180,455\n",
            "Trainable params: 13,180,455\n",
            "Non-trainable params: 0\n",
            "_________________________________________________________________\n",
            "Epoch 1/150\n",
            "61/61 [==============================] - 23s 192ms/step - loss: 0.5707 - acc: 0.5769 - val_loss: 0.5514 - val_acc: 0.6340 - lr: 0.0010\n",
            "Epoch 2/150\n",
            "61/61 [==============================] - 7s 121ms/step - loss: 0.5179 - acc: 0.6282 - val_loss: 0.5289 - val_acc: 0.6340 - lr: 0.0010\n",
            "Epoch 3/150\n",
            "61/61 [==============================] - 6s 96ms/step - loss: 0.4991 - acc: 0.6522 - val_loss: 0.5141 - val_acc: 0.6186 - lr: 0.0010\n",
            "Epoch 4/150\n",
            "61/61 [==============================] - 5s 83ms/step - loss: 0.4742 - acc: 0.6695 - val_loss: 0.5194 - val_acc: 0.6546 - lr: 0.0010\n",
            "Epoch 5/150\n",
            "61/61 [==============================] - 5s 79ms/step - loss: 0.4406 - acc: 0.7038 - val_loss: 0.5253 - val_acc: 0.6186 - lr: 0.0010\n",
            "Epoch 6/150\n",
            "61/61 [==============================] - 4s 68ms/step - loss: 0.3975 - acc: 0.7420 - val_loss: 0.5619 - val_acc: 0.6443 - lr: 0.0010\n",
            "Epoch 7/150\n",
            "61/61 [==============================] - 5s 78ms/step - loss: 0.3185 - acc: 0.8104 - val_loss: 0.6162 - val_acc: 0.6186 - lr: 2.0000e-04\n",
            "Epoch 8/150\n",
            "61/61 [==============================] - 4s 62ms/step - loss: 0.2832 - acc: 0.8341 - val_loss: 0.6602 - val_acc: 0.6340 - lr: 2.0000e-04\n"
          ]
        }
      ],
      "source": [
        "# init layer\n",
        "\n",
        "# learn the correlations\n",
        "def split_input(sequence):\n",
        "     return sequence[:-1], tf.reshape(sequence[1:], (-1,1))\n",
        "\n",
        "model = Sequential()\n",
        "model.add(Embedding(len(d2v_model.wv),20,input_length=X.shape[1],weights=[d2v_model.wv.vectors],trainable=True))\n",
        "model.add(Conv1D(filters=44, kernel_size=3, padding='same', activation='tanh'))\n",
        "model.add(MaxPooling1D(pool_size=2))\n",
        "model.add(Bidirectional(LSTM(224,return_sequences=True,kernel_initializer='he_uniform', activation='tanh')))\n",
        "model.add(Dropout(0.6))\n",
        "model.add(Bidirectional(LSTM(832,return_sequences=True,kernel_initializer='he_uniform', activation='tanh')))\n",
        "model.add(Dropout(0.8))\n",
        "model.add(Bidirectional(LSTM(256,return_sequences=False,kernel_initializer='he_uniform', activation='tanh')))\n",
        "model.add(Dropout(0.6))\n",
        "model.add(Dense(3, activation='softmax'))\n",
        "model.compile(loss='binary_crossentropy', optimizer = tf.keras.optimizers.Adam(learning_rate=1e-3),metrics=['acc'])\n",
        "\n",
        "reduce_lr = tf.keras.callbacks.ReduceLROnPlateau(monitor='val_loss', factor=0.2,patience=3)\n",
        "EarlyStopping = tf.keras.callbacks.EarlyStopping(monitor='val_loss', patience=5)\n",
        "# output model skeleton\n",
        "model.summary()\n",
        "plot_model(model)\n",
        "\n",
        "batch_size = 64\n",
        "history=model.fit(X_train, Y_train, epochs=150, validation_data=(X_val, Y_val), batch_size=batch_size, verbose = 1,callbacks=[reduce_lr,EarlyStopping])"
      ]
    },
    {
      "cell_type": "code",
      "execution_count": 66,
      "metadata": {
        "execution": {
          "iopub.execute_input": "2020-10-12T12:43:46.378339Z",
          "iopub.status.busy": "2020-10-12T12:43:46.376810Z",
          "iopub.status.idle": "2020-10-12T12:43:46.741316Z",
          "shell.execute_reply": "2020-10-12T12:43:46.740620Z"
        },
        "papermill": {
          "duration": 0.541444,
          "end_time": "2020-10-12T12:43:46.741447",
          "exception": false,
          "start_time": "2020-10-12T12:43:46.200003",
          "status": "completed"
        },
        "tags": [],
        "id": "SCnlr51xDLOA",
        "colab": {
          "base_uri": "https://localhost:8080/",
          "height": 927
        },
        "outputId": "ff60504c-f7f1-4dbe-9ec6-80377559d65c"
      },
      "outputs": [
        {
          "output_type": "display_data",
          "data": {
            "text/plain": [
              "<Figure size 640x480 with 1 Axes>"
            ],
            "image/png": "[encoded data removed]"
          },
          "metadata": {}
        },
        {
          "output_type": "display_data",
          "data": {
            "text/plain": [
              "<Figure size 640x480 with 1 Axes>"
            ],
            "image/png": "[encoded data removed]"
          },
          "metadata": {}
        }
      ],
      "source": [
        "plt.plot(history.history['acc'])\n",
        "plt.title('model accuracy')\n",
        "plt.ylabel('acc')\n",
        "plt.xlabel('epochs')\n",
        "plt.legend(['train', 'test'], loc='upper left')\n",
        "plt.plot(history.history['val_acc'])\n",
        "plt.title('model validation accuracy')\n",
        "plt.xlabel('epochs')\n",
        "plt.legend(['train', 'test'], loc='upper left')\n",
        "plt.show()\n",
        "\n",
        "# summarize history for loss\n",
        "plt.plot(history.history['loss'])\n",
        "plt.plot(history.history['val_loss'])\n",
        "plt.title('model loss')\n",
        "plt.ylabel('loss')\n",
        "plt.xlabel('epochs')\n",
        "plt.legend(['train', 'test'], loc='upper left')\n",
        "plt.show()"
      ]
    },
    {
      "cell_type": "code",
      "execution_count": 67,
      "metadata": {
        "execution": {
          "iopub.execute_input": "2020-10-12T12:43:47.087448Z",
          "iopub.status.busy": "2020-10-12T12:43:47.086375Z",
          "iopub.status.idle": "2020-10-12T12:43:48.648960Z",
          "shell.execute_reply": "2020-10-12T12:43:48.648234Z"
        },
        "papermill": {
          "duration": 1.738385,
          "end_time": "2020-10-12T12:43:48.649121",
          "exception": false,
          "start_time": "2020-10-12T12:43:46.910736",
          "status": "completed"
        },
        "tags": [],
        "id": "hJ3LPo0cDLOA",
        "colab": {
          "base_uri": "https://localhost:8080/"
        },
        "outputId": "0517a38d-d375-452d-bd39-f88c92a5d474"
      },
      "outputs": [
        {
          "output_type": "stream",
          "name": "stdout",
          "text": [
            "122/122 - 2s - loss: 0.2376 - acc: 0.8630 - 2s/epoch - 15ms/step\n",
            "25/25 - 0s - loss: 0.6279 - acc: 0.6439 - 387ms/epoch - 15ms/step\n",
            "Train: 0.863, Test: 0.6439\n"
          ]
        }
      ],
      "source": [
        "# evaluate the model\n",
        "_, train_acc = model.evaluate(X_train, Y_train, verbose=2)\n",
        "_, test_acc = model.evaluate(X_test, Y_test, verbose=2)\n",
        "print('Train: %.3f, Test: %.4f' % (train_acc, test_acc))"
      ]
    },
    {
      "cell_type": "code",
      "execution_count": 68,
      "metadata": {
        "execution": {
          "iopub.execute_input": "2020-10-12T12:43:48.986718Z",
          "iopub.status.busy": "2020-10-12T12:43:48.985884Z",
          "iopub.status.idle": "2020-10-12T12:43:49.764517Z",
          "shell.execute_reply": "2020-10-12T12:43:49.763845Z"
        },
        "papermill": {
          "duration": 0.950111,
          "end_time": "2020-10-12T12:43:49.764671",
          "exception": false,
          "start_time": "2020-10-12T12:43:48.814560",
          "status": "completed"
        },
        "tags": [],
        "id": "5vAHECz0DLOB",
        "colab": {
          "base_uri": "https://localhost:8080/"
        },
        "outputId": "2476ebe4-b115-4309-d061-46a9b8a1d06d"
      },
      "outputs": [
        {
          "output_type": "stream",
          "name": "stdout",
          "text": [
            "[[6.7243451e-04 9.9921227e-01 1.1533604e-04]\n",
            " [8.0130643e-01 2.2903525e-03 1.9640319e-01]\n",
            " [8.3866197e-04 9.9903083e-01 1.3049204e-04]\n",
            " ...\n",
            " [7.7697599e-01 1.7183574e-01 5.1188227e-02]\n",
            " [2.8883063e-03 9.9643952e-01 6.7217276e-04]\n",
            " [7.9639937e-04 9.9907780e-01 1.2578680e-04]]\n",
            "25/25 [==============================] - 0s 13ms/step\n",
            "[1 0 1 2 1 1 0 1 1 1 1 1 0 1 2 1 1 1 1 0 1 1 1 1 2 1 1 1 1 1 2 0 1 0 1 0 1\n",
            " 1 1 0 1 1 2 0 0 1 1 1 1 1 1 2 1 0 0 0 0 1 0 1 1 0 1 1 1 1 0 1 1 1 1 1 1 1\n",
            " 1 1 0 1 1 0 1 0 1 1 1 0 2 0 1 1 1 0 0 0 1 0 1 0 1 0 0 1 1 1 1 0 1 0 1 0 2\n",
            " 1 1 1 1 1 2 1 1 1 0 0 1 1 1 1 1 0 1 0 1 1 1 1 1 0 1 1 0 1 1 1 1 1 1 1 2 0\n",
            " 1 1 0 1 2 2 0 0 2 1 0 0 0 1 1 1 1 1 1 2 1 1 0 1 1 1 1 1 1 1 0 2 0 1 0 0 1\n",
            " 1 0 0 0 1 1 0 1 0 1 1 1 1 1 0 2 1 1 1 1 0 1 2 0 0 1 0 2 1 0 2 1 1 1 1 1 1\n",
            " 1 1 0 2 1 1 1 1 0 1 1 2 0 1 1 1 1 1 1 1 1 0 1 1 1 0 1 1 1 1 1 1 1 1 2 1 2\n",
            " 1 1 1 1 2 1 1 1 0 1 1 0 1 0 0 2 0 1 1 1 2 1 1 1 1 1 1 1 1 1 0 1 1 1 1 0 1\n",
            " 1 1 0 0 1 1 1 1 1 2 0 0 1 1 1 1 2 1 1 2 1 1 2 0 1 1 1 0 1 1 0 1 1 1 1 0 2\n",
            " 0 1 1 1 1 1 1 1 0 1 0 1 1 0 1 1 0 1 0 1 0 1 1 1 1 1 1 0 2 1 1 1 1 0 1 1 0\n",
            " 1 0 1 2 1 1 2 1 1 1 1 1 1 1 1 1 0 1 1 1 2 0 1 2 0 1 0 1 0 1 1 1 1 2 1 1 0\n",
            " 1 1 0 1 1 2 0 1 0 1 1 0 2 1 0 1 1 0 1 0 1 1 1 1 2 1 2 1 1 1 1 1 2 0 1 1 0\n",
            " 0 1 1 1 1 1 1 0 2 1 2 1 1 1 2 0 1 1 1 1 0 0 1 1 1 0 1 1 1 1 1 1 2 1 1 0 1\n",
            " 1 1 0 1 1 1 1 0 1 1 1 1 1 1 1 1 1 1 1 1 0 1 1 0 1 1 2 1 1 1 1 2 1 1 1 1 1\n",
            " 2 1 0 1 2 0 1 1 1 1 1 0 1 1 1 0 1 1 1 1 1 0 0 2 1 1 1 1 1 1 2 1 1 2 1 1 1\n",
            " 1 2 0 2 1 1 1 1 1 1 0 1 1 1 1 0 1 0 0 1 1 2 1 1 1 2 1 1 0 1 2 1 1 1 1 1 1\n",
            " 1 0 1 1 1 1 0 1 1 2 1 1 1 1 1 1 1 1 1 0 2 1 1 1 0 1 1 0 1 1 1 1 1 1 1 1 1\n",
            " 1 1 0 2 1 1 1 2 2 1 1 0 0 1 1 1 1 1 1 1 0 1 1 2 1 1 1 1 0 1 1 2 1 1 1 1 1\n",
            " 0 0 1 1 1 1 1 1 1 1 0 0 2 1 0 2 1 1 1 1 0 1 1 0 0 1 0 1 0 1 0 1 1 1 0 1 2\n",
            " 1 1 2 1 1 1 1 1 1 0 1 2 1 1 1 1 0 1 2 0 1 2 1 0 1 1 1 1 1 1 1 2 1 1 1 0 0\n",
            " 0 1 1 0 1 1 1 0 1 1 1 1 1 1 1 0 1 1 1 1 0 1 0 0 1 1 0 1 1 2 2 1 0 1 1]\n"
          ]
        }
      ],
      "source": [
        "# predict probabilities for test set\n",
        "yhat_probs = model.predict(X_test, verbose=0)\n",
        "print(yhat_probs)\n",
        "# predict crisp classes for test set\n",
        "yhat_classes = np.argmax(model.predict(X_test), axis=-1)\n",
        "print(yhat_classes)"
      ]
    },
    {
      "cell_type": "code",
      "execution_count": 69,
      "metadata": {
        "execution": {
          "iopub.execute_input": "2020-10-12T12:43:50.104353Z",
          "iopub.status.busy": "2020-10-12T12:43:50.103137Z",
          "iopub.status.idle": "2020-10-12T12:43:50.107313Z",
          "shell.execute_reply": "2020-10-12T12:43:50.107971Z"
        },
        "papermill": {
          "duration": 0.178295,
          "end_time": "2020-10-12T12:43:50.108187",
          "exception": false,
          "start_time": "2020-10-12T12:43:49.929892",
          "status": "completed"
        },
        "tags": [],
        "id": "gbzyN1uVDLOC",
        "colab": {
          "base_uri": "https://localhost:8080/"
        },
        "outputId": "0106c6d8-ffc1-416d-d49b-e45eacfd425f"
      },
      "outputs": [
        {
          "output_type": "execute_result",
          "data": {
            "text/plain": [
              "array([1, 0, 1, 2, 1, 1, 2, 1, 1, 1, 1, 1, 0, 0, 0, 2, 0, 1, 1, 1, 1, 1,\n",
              "       1, 1, 0, 1, 1, 1, 1, 1, 0, 0, 1, 0, 1, 0, 1, 0, 1, 1, 1, 0, 0, 1,\n",
              "       0, 1, 1, 1, 1, 1, 1, 0, 1, 2, 0, 2, 0, 1, 1, 1, 1, 2, 1, 2, 1, 1,\n",
              "       1, 1, 1, 1, 1, 0, 1, 0, 1, 1, 1, 1, 1, 0, 1, 1, 1, 1, 1, 0, 2, 2,\n",
              "       1, 1, 0, 0, 1, 0, 0, 0, 1, 0, 1, 0, 1, 1, 0, 1, 0, 0, 1, 0, 1, 2,\n",
              "       2, 1, 1, 1, 0, 1, 2, 1, 1, 1, 1, 0, 1, 0, 0, 1, 1, 0, 1, 0, 1, 1,\n",
              "       1, 1, 0, 0, 0, 1, 1, 0, 1, 1, 0, 0, 0, 0, 2, 1, 0, 1, 1, 1, 2, 1,\n",
              "       0, 0, 2, 1, 1, 1, 2, 0, 0, 1, 1, 0, 2, 2, 1, 0, 1, 1, 1, 2, 1, 1,\n",
              "       1, 1, 0, 2, 1, 2, 1, 1, 0, 1, 2, 2, 1, 1, 1, 2, 0, 1, 0, 0, 2, 1,\n",
              "       0, 0, 2, 1, 1, 1, 1, 1, 1, 1, 1, 2, 1, 1, 2, 1, 2, 0, 1, 1, 1, 1,\n",
              "       0, 0, 1, 0, 0, 1, 1, 1, 0, 0, 0, 0, 1, 1, 0, 1, 1, 1, 1, 1, 1, 2,\n",
              "       1, 0, 0, 1, 1, 1, 0, 1, 1, 1, 0, 2, 0, 1, 2, 1, 2, 0, 0, 2, 1, 2,\n",
              "       1, 1, 1, 0, 1, 1, 1, 1, 2, 0, 2, 2, 1, 1, 1, 0, 0, 0, 1, 1, 1, 0,\n",
              "       0, 1, 1, 0, 1, 1, 1, 0, 0, 1, 1, 1, 0, 0, 1, 1, 1, 1, 1, 1, 0, 0,\n",
              "       1, 1, 2, 1, 1, 1, 0, 2, 2, 1, 1, 1, 0, 1, 1, 1, 1, 1, 0, 1, 1, 1,\n",
              "       1, 0, 1, 0, 1, 1, 0, 0, 1, 1, 1, 0, 2, 0, 1, 1, 1, 0, 0, 1, 1, 0,\n",
              "       1, 0, 1, 1, 0, 1, 1, 1, 2, 1, 1, 1, 1, 1, 0, 1, 2, 1, 0, 2, 1, 1,\n",
              "       1, 1, 1, 0, 1, 1, 0, 1, 1, 1, 1, 0, 0, 0, 1, 0, 1, 1, 1, 1, 0, 1,\n",
              "       0, 1, 2, 0, 1, 1, 0, 1, 0, 1, 0, 1, 1, 0, 1, 0, 0, 0, 1, 1, 0, 1,\n",
              "       1, 2, 0, 1, 1, 1, 0, 1, 0, 1, 0, 2, 1, 2, 1, 2, 0, 1, 1, 1, 1, 2,\n",
              "       0, 1, 1, 1, 2, 1, 1, 1, 0, 0, 1, 2, 2, 0, 0, 1, 1, 1, 0, 2, 1, 1,\n",
              "       1, 0, 1, 2, 1, 0, 2, 1, 0, 1, 2, 0, 1, 0, 0, 1, 1, 0, 1, 1, 1, 0,\n",
              "       1, 1, 0, 1, 0, 1, 1, 0, 1, 1, 1, 2, 1, 1, 1, 1, 1, 2, 0, 2, 1, 1,\n",
              "       0, 2, 1, 1, 0, 0, 2, 0, 2, 1, 1, 1, 0, 1, 0, 1, 1, 0, 2, 1, 1, 1,\n",
              "       0, 0, 1, 1, 0, 1, 0, 0, 1, 1, 1, 0, 1, 2, 2, 0, 1, 1, 1, 1, 2, 1,\n",
              "       1, 0, 1, 1, 1, 1, 0, 0, 2, 1, 1, 1, 2, 1, 1, 0, 2, 1, 1, 1, 0, 1,\n",
              "       1, 1, 2, 0, 0, 1, 0, 0, 2, 0, 1, 0, 1, 1, 2, 1, 0, 1, 1, 1, 1, 1,\n",
              "       1, 1, 1, 0, 2, 1, 2, 1, 1, 1, 1, 1, 1, 1, 0, 1, 1, 1, 2, 1, 1, 1,\n",
              "       2, 0, 1, 0, 0, 1, 0, 1, 1, 1, 0, 1, 1, 0, 1, 1, 0, 0, 1, 1, 0, 0,\n",
              "       2, 2, 1, 1, 0, 1, 1, 1, 0, 1, 1, 0, 1, 1, 0, 2, 1, 1, 1, 0, 1, 0,\n",
              "       2, 0, 1, 1, 0, 0, 0, 0, 1, 1, 0, 1, 0, 1, 1, 1, 0, 0, 0, 1, 0, 0,\n",
              "       1, 0, 1, 0, 0, 1, 1, 0, 1, 0, 0, 0, 0, 1, 0, 1, 1, 1, 2, 1, 1, 1,\n",
              "       1, 2, 1, 1, 1, 1, 2, 1, 1, 1, 0, 1, 2, 1, 0, 0, 1, 1, 0, 1, 2, 1,\n",
              "       0, 2, 0, 2, 1, 1, 1, 0, 2, 1, 1, 1, 0, 1, 0, 1, 1, 0, 0, 1, 1, 1,\n",
              "       1, 0, 1, 1, 1, 1, 1, 2, 1, 2, 1, 1, 0, 1, 1, 1, 1, 1, 0, 2, 1, 0,\n",
              "       1, 1, 0, 1, 1])"
            ]
          },
          "metadata": {},
          "execution_count": 69
        }
      ],
      "source": [
        "rounded_labels=np.argmax(Y_test, axis=1)\n",
        "rounded_labels"
      ]
    },
    {
      "cell_type": "code",
      "source": [
        "yhat_classes"
      ],
      "metadata": {
        "id": "Raxi_U7MLkgf",
        "colab": {
          "base_uri": "https://localhost:8080/"
        },
        "outputId": "dbaa3190-0941-4a20-a2d5-94c2d203c2d3"
      },
      "execution_count": 70,
      "outputs": [
        {
          "output_type": "execute_result",
          "data": {
            "text/plain": [
              "array([1, 0, 1, 2, 1, 1, 0, 1, 1, 1, 1, 1, 0, 1, 2, 1, 1, 1, 1, 0, 1, 1,\n",
              "       1, 1, 2, 1, 1, 1, 1, 1, 2, 0, 1, 0, 1, 0, 1, 1, 1, 0, 1, 1, 2, 0,\n",
              "       0, 1, 1, 1, 1, 1, 1, 2, 1, 0, 0, 0, 0, 1, 0, 1, 1, 0, 1, 1, 1, 1,\n",
              "       0, 1, 1, 1, 1, 1, 1, 1, 1, 1, 0, 1, 1, 0, 1, 0, 1, 1, 1, 0, 2, 0,\n",
              "       1, 1, 1, 0, 0, 0, 1, 0, 1, 0, 1, 0, 0, 1, 1, 1, 1, 0, 1, 0, 1, 0,\n",
              "       2, 1, 1, 1, 1, 1, 2, 1, 1, 1, 0, 0, 1, 1, 1, 1, 1, 0, 1, 0, 1, 1,\n",
              "       1, 1, 1, 0, 1, 1, 0, 1, 1, 1, 1, 1, 1, 1, 2, 0, 1, 1, 0, 1, 2, 2,\n",
              "       0, 0, 2, 1, 0, 0, 0, 1, 1, 1, 1, 1, 1, 2, 1, 1, 0, 1, 1, 1, 1, 1,\n",
              "       1, 1, 0, 2, 0, 1, 0, 0, 1, 1, 0, 0, 0, 1, 1, 0, 1, 0, 1, 1, 1, 1,\n",
              "       1, 0, 2, 1, 1, 1, 1, 0, 1, 2, 0, 0, 1, 0, 2, 1, 0, 2, 1, 1, 1, 1,\n",
              "       1, 1, 1, 1, 0, 2, 1, 1, 1, 1, 0, 1, 1, 2, 0, 1, 1, 1, 1, 1, 1, 1,\n",
              "       1, 0, 1, 1, 1, 0, 1, 1, 1, 1, 1, 1, 1, 1, 2, 1, 2, 1, 1, 1, 1, 2,\n",
              "       1, 1, 1, 0, 1, 1, 0, 1, 0, 0, 2, 0, 1, 1, 1, 2, 1, 1, 1, 1, 1, 1,\n",
              "       1, 1, 1, 0, 1, 1, 1, 1, 0, 1, 1, 1, 0, 0, 1, 1, 1, 1, 1, 2, 0, 0,\n",
              "       1, 1, 1, 1, 2, 1, 1, 2, 1, 1, 2, 0, 1, 1, 1, 0, 1, 1, 0, 1, 1, 1,\n",
              "       1, 0, 2, 0, 1, 1, 1, 1, 1, 1, 1, 0, 1, 0, 1, 1, 0, 1, 1, 0, 1, 0,\n",
              "       1, 0, 1, 1, 1, 1, 1, 1, 0, 2, 1, 1, 1, 1, 0, 1, 1, 0, 1, 0, 1, 2,\n",
              "       1, 1, 2, 1, 1, 1, 1, 1, 1, 1, 1, 1, 0, 1, 1, 1, 2, 0, 1, 2, 0, 1,\n",
              "       0, 1, 0, 1, 1, 1, 1, 2, 1, 1, 0, 1, 1, 0, 1, 1, 2, 0, 1, 0, 1, 1,\n",
              "       0, 2, 1, 0, 1, 1, 0, 1, 0, 1, 1, 1, 1, 2, 1, 2, 1, 1, 1, 1, 1, 2,\n",
              "       0, 1, 1, 0, 0, 1, 1, 1, 1, 1, 1, 0, 2, 1, 2, 1, 1, 1, 2, 0, 1, 1,\n",
              "       1, 1, 0, 0, 1, 1, 1, 0, 1, 1, 1, 1, 1, 1, 2, 1, 1, 0, 1, 1, 1, 0,\n",
              "       1, 1, 1, 1, 0, 1, 1, 1, 1, 1, 1, 1, 1, 1, 1, 1, 1, 0, 1, 1, 0, 1,\n",
              "       1, 2, 1, 1, 1, 1, 2, 1, 1, 1, 1, 1, 2, 1, 0, 1, 2, 0, 1, 1, 1, 1,\n",
              "       1, 0, 1, 1, 1, 0, 1, 1, 1, 1, 1, 0, 0, 2, 1, 1, 1, 1, 1, 1, 2, 1,\n",
              "       1, 2, 1, 1, 1, 1, 2, 0, 2, 1, 1, 1, 1, 1, 1, 0, 1, 1, 1, 1, 0, 1,\n",
              "       0, 0, 1, 1, 2, 1, 1, 1, 2, 1, 1, 0, 1, 2, 1, 1, 1, 1, 1, 1, 1, 0,\n",
              "       1, 1, 1, 1, 0, 1, 1, 2, 1, 1, 1, 1, 1, 1, 1, 1, 1, 0, 2, 1, 1, 1,\n",
              "       0, 1, 1, 0, 1, 1, 1, 1, 1, 1, 1, 1, 1, 1, 1, 0, 2, 1, 1, 1, 2, 2,\n",
              "       1, 1, 0, 0, 1, 1, 1, 1, 1, 1, 1, 0, 1, 1, 2, 1, 1, 1, 1, 0, 1, 1,\n",
              "       2, 1, 1, 1, 1, 1, 0, 0, 1, 1, 1, 1, 1, 1, 1, 1, 0, 0, 2, 1, 0, 2,\n",
              "       1, 1, 1, 1, 0, 1, 1, 0, 0, 1, 0, 1, 0, 1, 0, 1, 1, 1, 0, 1, 2, 1,\n",
              "       1, 2, 1, 1, 1, 1, 1, 1, 0, 1, 2, 1, 1, 1, 1, 0, 1, 2, 0, 1, 2, 1,\n",
              "       0, 1, 1, 1, 1, 1, 1, 1, 2, 1, 1, 1, 0, 0, 0, 1, 1, 0, 1, 1, 1, 0,\n",
              "       1, 1, 1, 1, 1, 1, 1, 0, 1, 1, 1, 1, 0, 1, 0, 0, 1, 1, 0, 1, 1, 2,\n",
              "       2, 1, 0, 1, 1])"
            ]
          },
          "metadata": {},
          "execution_count": 70
        }
      ]
    },
    {
      "cell_type": "code",
      "execution_count": 71,
      "metadata": {
        "execution": {
          "iopub.execute_input": "2020-10-12T12:43:50.837934Z",
          "iopub.status.busy": "2020-10-12T12:43:50.837130Z",
          "iopub.status.idle": "2020-10-12T12:43:51.045528Z",
          "shell.execute_reply": "2020-10-12T12:43:51.046112Z"
        },
        "papermill": {
          "duration": 0.38367,
          "end_time": "2020-10-12T12:43:51.046279",
          "exception": false,
          "start_time": "2020-10-12T12:43:50.662609",
          "status": "completed"
        },
        "tags": [],
        "id": "6BNIvnpODLOE",
        "colab": {
          "base_uri": "https://localhost:8080/",
          "height": 487
        },
        "outputId": "ac7054c1-f727-4474-eae4-8b1fa1b7dfb2"
      },
      "outputs": [
        {
          "output_type": "display_data",
          "data": {
            "text/plain": [
              "<Figure size 500x500 with 2 Axes>"
            ],
            "image/png": "[encoded data removed]"
          },
          "metadata": {}
        }
      ],
      "source": [
        "# The confusion matrix\n",
        "lstm_val = confusion_matrix(rounded_labels, yhat_classes)\n",
        "f, ax = plt.subplots(figsize=(5,5))\n",
        "sns.heatmap(lstm_val, annot=True, linewidth=0.7, linecolor='cyan', fmt='g', ax=ax, cmap=\"BuPu\")\n",
        "plt.title('LSTM Classification Confusion Matrix')\n",
        "plt.xlabel('Y predict')\n",
        "plt.ylabel('Y test')\n",
        "plt.show()"
      ]
    },
    {
      "cell_type": "markdown",
      "metadata": {
        "papermill": {
          "duration": 0.170884,
          "end_time": "2020-10-12T12:43:51.385992",
          "exception": false,
          "start_time": "2020-10-12T12:43:51.215108",
          "status": "completed"
        },
        "tags": [],
        "id": "nmGOo8AjDLOF"
      },
      "source": [
        "# Validation"
      ]
    },
    {
      "cell_type": "code",
      "execution_count": 72,
      "metadata": {
        "execution": {
          "iopub.execute_input": "2020-10-12T12:43:51.730872Z",
          "iopub.status.busy": "2020-10-12T12:43:51.730129Z",
          "iopub.status.idle": "2020-10-12T12:43:51.805599Z",
          "shell.execute_reply": "2020-10-12T12:43:51.804911Z"
        },
        "papermill": {
          "duration": 0.250835,
          "end_time": "2020-10-12T12:43:51.805722",
          "exception": false,
          "start_time": "2020-10-12T12:43:51.554887",
          "status": "completed"
        },
        "tags": [],
        "id": "mN_MUgN3DLOG",
        "colab": {
          "base_uri": "https://localhost:8080/"
        },
        "outputId": "24d31d3f-49ea-4c75-e1f4-dd0412115cf8"
      },
      "outputs": [
        {
          "output_type": "stream",
          "name": "stdout",
          "text": [
            "25/25 [==============================] - 0s 18ms/step - loss: 0.6279 - acc: 0.6439\n",
            "score: 0.63\n",
            "acc: 0.64\n"
          ]
        }
      ],
      "source": [
        "score,acc = model.evaluate(X_test, Y_test, verbose = 1)\n",
        "\n",
        "print(\"score: %.2f\" % (score))\n",
        "print(\"acc: %.2f\" % (acc))"
      ]
    },
    {
      "cell_type": "markdown",
      "metadata": {
        "papermill": {
          "duration": 0.167501,
          "end_time": "2020-10-12T12:43:52.853834",
          "exception": false,
          "start_time": "2020-10-12T12:43:52.686333",
          "status": "completed"
        },
        "tags": [],
        "id": "Lk92a6F6DLOI"
      },
      "source": [
        "**Test with new and different data set aside from the data to build the model.**\n",
        "\n",
        "note : sentiment  = {'positive': 0,'neutral': 1,'negative':2} "
      ]
    },
    {
      "cell_type": "code",
      "execution_count": 73,
      "metadata": {
        "execution": {
          "iopub.execute_input": "2020-10-12T12:43:53.199311Z",
          "iopub.status.busy": "2020-10-12T12:43:53.198428Z",
          "iopub.status.idle": "2020-10-12T12:43:53.243859Z",
          "shell.execute_reply": "2020-10-12T12:43:53.243174Z"
        },
        "papermill": {
          "duration": 0.222406,
          "end_time": "2020-10-12T12:43:53.243981",
          "exception": false,
          "start_time": "2020-10-12T12:43:53.021575",
          "status": "completed"
        },
        "tags": [],
        "id": "JaZZs_XZDLOI",
        "colab": {
          "base_uri": "https://localhost:8080/"
        },
        "outputId": "00b95227-8344-4af2-e132-f93900d3bb19"
      },
      "outputs": [
        {
          "output_type": "stream",
          "name": "stdout",
          "text": [
            "1/1 [==============================] - 0s 77ms/step\n",
            "[[0.649186   0.27299008 0.07782396]] 0\n"
          ]
        }
      ],
      "source": [
        "message = ['Congratulations! you have won a $1,000 Walmart gift card']\n",
        "seq = tokenizer.texts_to_sequences(message)\n",
        "\n",
        "padded = pad_sequences(seq, maxlen=X.shape[1], dtype='int32', value=0)\n",
        "\n",
        "pred = model.predict(padded)\n",
        "\n",
        "labels = ['0','1','2']\n",
        "print(pred, labels[np.argmax(pred)])"
      ]
    },
    {
      "cell_type": "code",
      "execution_count": 74,
      "metadata": {
        "execution": {
          "iopub.execute_input": "2020-10-12T12:43:53.592803Z",
          "iopub.status.busy": "2020-10-12T12:43:53.592004Z",
          "iopub.status.idle": "2020-10-12T12:43:53.635560Z",
          "shell.execute_reply": "2020-10-12T12:43:53.634750Z"
        },
        "papermill": {
          "duration": 0.221668,
          "end_time": "2020-10-12T12:43:53.635699",
          "exception": false,
          "start_time": "2020-10-12T12:43:53.414031",
          "status": "completed"
        },
        "tags": [],
        "id": "YwyROBxzDLOJ",
        "colab": {
          "base_uri": "https://localhost:8080/"
        },
        "outputId": "f1b6623b-f65b-40f6-9405-d512439852f8"
      },
      "outputs": [
        {
          "output_type": "stream",
          "name": "stdout",
          "text": [
            "1/1 [==============================] - 0s 23ms/step\n",
            "[[1.2294260e-03 9.9839312e-01 3.7738297e-04]] 1\n"
          ]
        }
      ],
      "source": [
        "message = ['such massive asteroid hit will certainly create new business opportunities']\n",
        "seq = tokenizer.texts_to_sequences(message)\n",
        "\n",
        "padded = pad_sequences(seq, maxlen=X.shape[1], dtype='int32', value=0)\n",
        "\n",
        "pred = model.predict(padded)\n",
        "\n",
        "labels = ['0','1','2']\n",
        "print(pred, labels[np.argmax(pred)])"
      ]
    },
    {
      "cell_type": "code",
      "execution_count": 75,
      "metadata": {
        "execution": {
          "iopub.execute_input": "2020-10-12T12:43:53.983749Z",
          "iopub.status.busy": "2020-10-12T12:43:53.982963Z",
          "iopub.status.idle": "2020-10-12T12:43:54.028754Z",
          "shell.execute_reply": "2020-10-12T12:43:54.027862Z"
        },
        "papermill": {
          "duration": 0.224137,
          "end_time": "2020-10-12T12:43:54.028888",
          "exception": false,
          "start_time": "2020-10-12T12:43:53.804751",
          "status": "completed"
        },
        "tags": [],
        "id": "b4womFKHDLOK",
        "colab": {
          "base_uri": "https://localhost:8080/"
        },
        "outputId": "ed0cdcb9-44a4-48f1-b732-fddf1b1c314a"
      },
      "outputs": [
        {
          "output_type": "stream",
          "name": "stdout",
          "text": [
            "1/1 [==============================] - 0s 23ms/step\n",
            "[[0.00742927 0.98925346 0.00331732]] 1\n"
          ]
        }
      ],
      "source": [
        "message = ['so does anyone else not open Snapchat anymore ? or is it just me ... ugh this so sad.']\n",
        "seq = tokenizer.texts_to_sequences(message)\n",
        "\n",
        "padded = pad_sequences(seq, maxlen=X.shape[1], dtype='int32', value=0)\n",
        "\n",
        "pred = model.predict(padded)\n",
        "\n",
        "labels = ['0','1','2']\n",
        "print(pred, labels[np.argmax(pred)])"
      ]
    },
    {
      "cell_type": "code",
      "execution_count": 76,
      "metadata": {
        "execution": {
          "iopub.execute_input": "2020-10-12T12:43:54.379379Z",
          "iopub.status.busy": "2020-10-12T12:43:54.378574Z",
          "iopub.status.idle": "2020-10-12T12:43:54.424891Z",
          "shell.execute_reply": "2020-10-12T12:43:54.424087Z"
        },
        "papermill": {
          "duration": 0.226279,
          "end_time": "2020-10-12T12:43:54.425024",
          "exception": false,
          "start_time": "2020-10-12T12:43:54.198745",
          "status": "completed"
        },
        "tags": [],
        "id": "Q_7ScywPDLOL",
        "colab": {
          "base_uri": "https://localhost:8080/"
        },
        "outputId": "1c23098f-1928-47f3-beff-dc42a62568e7"
      },
      "outputs": [
        {
          "output_type": "stream",
          "name": "stdout",
          "text": [
            "1/1 [==============================] - 0s 22ms/step\n",
            "[[0.0625582  0.9291256  0.00831609]] 1\n"
          ]
        }
      ],
      "source": [
        "message = ['@elonmusk had a terrible experience with a very pushy sales guy from tesla Stanford shop while shopping for model x']\n",
        "seq = tokenizer.texts_to_sequences(message)\n",
        "\n",
        "padded = pad_sequences(seq, maxlen=X.shape[1], dtype='int32', value=0)\n",
        "\n",
        "pred = model.predict(padded)\n",
        "\n",
        "labels = ['0','1','2']\n",
        "print(pred, labels[np.argmax(pred)])"
      ]
    },
    {
      "cell_type": "code",
      "execution_count": 77,
      "metadata": {
        "execution": {
          "iopub.execute_input": "2020-10-12T12:43:54.775597Z",
          "iopub.status.busy": "2020-10-12T12:43:54.774486Z",
          "iopub.status.idle": "2020-10-12T12:43:54.818737Z",
          "shell.execute_reply": "2020-10-12T12:43:54.817952Z"
        },
        "papermill": {
          "duration": 0.222813,
          "end_time": "2020-10-12T12:43:54.818863",
          "exception": false,
          "start_time": "2020-10-12T12:43:54.596050",
          "status": "completed"
        },
        "tags": [],
        "id": "R-RTsy0ADLOM",
        "colab": {
          "base_uri": "https://localhost:8080/"
        },
        "outputId": "b5d99f5a-2072-462d-8b8b-6a1a7a3e1e8b"
      },
      "outputs": [
        {
          "output_type": "stream",
          "name": "stdout",
          "text": [
            "1/1 [==============================] - 0s 22ms/step\n",
            "[[9.2101732e-04 9.9890482e-01 1.7408984e-04]] 1\n"
          ]
        }
      ],
      "source": [
        "message = ['The local electronics industry is expected to remain stable amid layoff concerns surrounding Japanese electronics giants operating in the country, an official says.']\n",
        "seq = tokenizer.texts_to_sequences(message)\n",
        "\n",
        "padded = pad_sequences(seq, maxlen=X.shape[1], dtype='int32', value=0)\n",
        "\n",
        "pred = model.predict(padded)\n",
        "\n",
        "labels = ['0','1','2']\n",
        "print(pred, labels[np.argmax(pred)])"
      ]
    },
    {
      "cell_type": "code",
      "execution_count": 78,
      "metadata": {
        "execution": {
          "iopub.execute_input": "2020-10-12T12:43:55.172462Z",
          "iopub.status.busy": "2020-10-12T12:43:55.171354Z",
          "iopub.status.idle": "2020-10-12T12:43:55.216129Z",
          "shell.execute_reply": "2020-10-12T12:43:55.215419Z"
        },
        "papermill": {
          "duration": 0.22453,
          "end_time": "2020-10-12T12:43:55.216271",
          "exception": false,
          "start_time": "2020-10-12T12:43:54.991741",
          "status": "completed"
        },
        "tags": [],
        "id": "jWQmII18DLOM",
        "colab": {
          "base_uri": "https://localhost:8080/"
        },
        "outputId": "5f099e31-f928-4de8-eed2-ac1b5ac9c25b"
      },
      "outputs": [
        {
          "output_type": "stream",
          "name": "stdout",
          "text": [
            "1/1 [==============================] - 0s 22ms/step\n",
            "[[0.06062111 0.92091125 0.01846758]] 1\n"
          ]
        }
      ],
      "source": [
        "message = ['The local electronics industry is amid layoff concerns and last year has laid off tens of employees']\n",
        "seq = tokenizer.texts_to_sequences(message)\n",
        "\n",
        "padded = pad_sequences(seq, maxlen=X.shape[1], dtype='int32', value=0)\n",
        "\n",
        "pred = model.predict(padded)\n",
        "\n",
        "labels = ['0','1','2']\n",
        "print(pred, labels[np.argmax(pred)])"
      ]
    }
  ],
  "metadata": {
    "kernelspec": {
      "display_name": "Python 3",
      "language": "python",
      "name": "python3"
    },
    "language_info": {
      "codemirror_mode": {
        "name": "ipython",
        "version": 3
      },
      "file_extension": ".py",
      "mimetype": "text/x-python",
      "name": "python",
      "nbconvert_exporter": "python",
      "pygments_lexer": "ipython3",
      "version": "3.7.6"
    },
    "papermill": {
      "duration": 1038.73911,
      "end_time": "2020-10-12T12:43:55.843833",
      "environment_variables": {},
      "exception": null,
      "input_path": "__notebook__.ipynb",
      "output_path": "__notebook__.ipynb",
      "parameters": {},
      "start_time": "2020-10-12T12:26:37.104723",
      "version": "2.1.0"
    },
    "colab": {
      "provenance": [],
      "gpuType": "T4"
    },
    "gpuClass": "standard",
    "accelerator": "GPU"
  },
  "nbformat": 4,
  "nbformat_minor": 0
}